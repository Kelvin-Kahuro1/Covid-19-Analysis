{
 "cells": [
  {
   "cell_type": "code",
   "execution_count": 1,
   "metadata": {},
   "outputs": [],
   "source": [
    "#Setting up a working directory\n",
    "import os\n",
    "os.chdir(\"C:/Users/Lenovo/Desktop/Data Insight/Analysis\")"
   ]
  },
  {
   "cell_type": "code",
   "execution_count": 2,
   "metadata": {},
   "outputs": [],
   "source": [
    "#Importing the necessarily libraries for the EDA\n",
    "import pandas as pd\n",
    "import numpy as np\n",
    "import matplotlib.pyplot as plt\n",
    "import seaborn as sns"
   ]
  },
  {
   "cell_type": "code",
   "execution_count": 3,
   "metadata": {},
   "outputs": [],
   "source": [
    "#Saving the raw data of the covid19 recovered cases & confirmed cases to their respective variables\n",
    "#This data is updated on a daily basis from data source as per the respective url's: https://github.com/CSSEGISandData/COVID-19/tree/master/csse_covid_19_data/csse_covid_19_time_series\n",
    "recovered_csv=\"https://raw.githubusercontent.com/CSSEGISandData/COVID-19/master/csse_covid_19_data/csse_covid_19_time_series/time_series_covid19_recovered_global.csv\"\n",
    "confirmed_csv=\"https://raw.githubusercontent.com/CSSEGISandData/COVID-19/master/csse_covid_19_data/csse_covid_19_time_series/time_series_covid19_confirmed_global.csv\""
   ]
  },
  {
   "cell_type": "code",
   "execution_count": 4,
   "metadata": {},
   "outputs": [],
   "source": [
    "#Reading in the data to dataframes\n",
    "recovered_timeseries_df=pd.read_csv(recovered_csv)\n",
    "confirmed_timeseries_df=pd.read_csv(confirmed_csv)"
   ]
  },
  {
   "cell_type": "code",
   "execution_count": 5,
   "metadata": {},
   "outputs": [],
   "source": [
    "recovered_timeseries_df.head()"
   ]
  },
  {
   "cell_type": "code",
   "execution_count": 6,
   "metadata": {},
   "outputs": [],
   "source": [
    "confirmed_timeseries_df.head()"
   ]
  },
  {
   "cell_type": "code",
   "execution_count": 7,
   "metadata": {},
   "outputs": [],
   "source": [
    "#Confirming that the column names in the two datasets are the same\n",
    "confirmed_timeseries_df.columns==recovered_timeseries_df.columns"
   ]
  },
  {
   "cell_type": "code",
   "execution_count": 8,
   "metadata": {},
   "outputs": [],
   "source": [
    "#Since the columns in the df's are the same we can come up with a function to massage the data\n",
    "#we shall drop columns Province/State,Lat,Long as we don't require it in our analysis\n",
    "def reshape_data(recovered_timeseries_df,confirmed_timeseries_df):\n",
    "    confirmed=confirmed_timeseries_df.melt(id_vars=['Province/State','Country/Region','Lat','Long'],var_name='Date',value_name='Confirmed_cases').drop(columns=['Province/State','Lat','Long'])\n",
    "    recovered=recovered_timeseries_df.melt(id_vars=['Province/State','Country/Region','Lat','Long'],var_name='Date',value_name='Recovered_cases').drop(columns=['Province/State','Lat','Long'])\n",
    "    confirmed['Date']=pd.to_datetime(confirmed['Date'])\n",
    "    recovered['Date']=pd.to_datetime(recovered['Date'])\n",
    "    recovered.set_index(\"Date\",inplace=True)\n",
    "    confirmed.set_index(\"Date\",inplace=True)\n",
    "    recovered.index = recovered.index.strftime('%d/%m/%Y')\n",
    "    confirmed.index = confirmed.index.strftime('%d/%m/%Y')\n",
    "        \n",
    "    return (confirmed,recovered)"
   ]
  },
  {
   "cell_type": "code",
   "execution_count": 9,
   "metadata": {},
   "outputs": [],
   "source": [
    "Confirmed_data,Recovered_data=reshape_data(recovered_timeseries_df,confirmed_timeseries_df)"
   ]
  },
  {
   "cell_type": "code",
   "execution_count": 10,
   "metadata": {},
   "outputs": [],
   "source": [
    "Confirmed_data.head()"
   ]
  },
  {
   "cell_type": "code",
   "execution_count": 11,
   "metadata": {},
   "outputs": [],
   "source": [
    "Recovered_data.head()"
   ]
  },
  {
   "cell_type": "code",
   "execution_count": 12,
   "metadata": {},
   "outputs": [],
   "source": [
    "Recovered_data.shape"
   ]
  },
  {
   "cell_type": "code",
   "execution_count": 13,
   "metadata": {},
   "outputs": [],
   "source": [
    "Confirmed_data.info()"
   ]
  },
  {
   "cell_type": "code",
   "execution_count": 14,
   "metadata": {},
   "outputs": [],
   "source": [
    "Recovered_data.info()"
   ]
  },
  {
   "cell_type": "code",
   "execution_count": 15,
   "metadata": {},
   "outputs": [],
   "source": [
    "#Filtering the countries with a high number of confirmed cases registered for the month of April 2020\n",
    "High_Cases_Confirmed=Confirmed_data['01/04/2020':'30/04/2020'].groupby(\"Country/Region\").max().sort_values(by=\"Confirmed_cases\",ascending=False).head(5)"
   ]
  },
  {
   "cell_type": "code",
   "execution_count": 16,
   "metadata": {},
   "outputs": [],
   "source": [
    "High_Cases_Confirmed.index"
   ]
  },
  {
   "cell_type": "code",
   "execution_count": 17,
   "metadata": {},
   "outputs": [],
   "source": [
    "#Create list of the countries with the highest no of confirmed cases as at end of April\n",
    "Countries_List=High_Cases_Confirmed.index.to_list()"
   ]
  },
  {
   "cell_type": "code",
   "execution_count": 18,
   "metadata": {},
   "outputs": [],
   "source": [
    "Countries_List"
   ]
  },
  {
   "cell_type": "code",
   "execution_count": 19,
   "metadata": {},
   "outputs": [],
   "source": [
    "#Filtering the confirmed cases data with Countries list for the month of April 2020 & summing over Confirmed_cases for any cases  of duplicated Country/Region per day\n",
    "def April_data(data,count_column):\n",
    "    data1=data[data[\"Country/Region\"].isin (Countries_List)]\n",
    "    data1=data1['01/04/2020':'30/04/2020']\n",
    "    data1 = data1.groupby([data1.index,'Country/Region']).agg({count_column: 'sum'})\n",
    "    data1.reset_index(inplace=True)\n",
    "    data1.set_index('level_0',inplace=True)\n",
    "    data1.index.rename('Date',inplace=True)\n",
    "    return data1"
   ]
  },
  {
   "cell_type": "code",
   "execution_count": 20,
   "metadata": {},
   "outputs": [],
   "source": [
    "Highest_Cases_data=April_data(Confirmed_data,'Confirmed_cases')"
   ]
  },
  {
   "cell_type": "code",
   "execution_count": 21,
   "metadata": {},
   "outputs": [],
   "source": [
    "Highest_Cases_data.index"
   ]
  },
  {
   "cell_type": "code",
   "execution_count": 22,
   "metadata": {},
   "outputs": [],
   "source": [
    "Highest_Cases_data"
   ]
  },
  {
   "cell_type": "code",
   "execution_count": 23,
   "metadata": {},
   "outputs": [],
   "source": [
    "Highest_Recovery_data=April_data(Recovered_data,'Recovered_cases')"
   ]
  },
  {
   "cell_type": "code",
   "execution_count": 24,
   "metadata": {},
   "outputs": [],
   "source": [
    "Color=['Red','Blue','Green','Black','Purple']\n",
    "c=0\n",
    "fig,ax=plt.subplots(figsize=(14,9))\n",
    "for i in Countries_List:\n",
    "    a=Highest_Cases_data[Highest_Cases_data['Country/Region']==i]\n",
    "    ax.plot(a.index,a['Confirmed_cases'],color=Color[c])\n",
    "    c+=1\n",
    "ax.legend(Countries_List,loc='best')\n",
    "plt.xticks(rotation='vertical')\n",
    "ax=plt.gca()\n",
    "plt.title('Most Affected Countries ( Confirmed April Cases)')\n",
    "plt.xlabel(\"Date\")\n",
    "plt.ylabel(\"Confirmed Cases\")\n",
    "plt.show\n",
    "    "
   ]
  },
  {
   "cell_type": "code",
   "execution_count": 25,
   "metadata": {},
   "outputs": [],
   "source": [
    "'''Since the US cases at 01/04/2020 is higher than the highest record among the other countries as at 30/04/2020, it would be \n",
    "more beneficial if we have two plots one for the US data & another for the other 4 countries'''"
   ]
  },
  {
   "cell_type": "code",
   "execution_count": 26,
   "metadata": {},
   "outputs": [],
   "source": [
    "#Us confirmed cases in the month of April"
   ]
  },
  {
   "cell_type": "code",
   "execution_count": 27,
   "metadata": {},
   "outputs": [],
   "source": [
    "US_cases=Highest_Cases_data[Highest_Cases_data['Country/Region']=='US']\n",
    "fig,ax=plt.subplots(figsize=(15,5))\n",
    "ax.plot(US_cases.index,US_cases['Confirmed_cases'],color='blue',marker='s')\n",
    "plt.xticks(rotation='vertical')\n",
    "ax.set_ylim([0,1200000])\n",
    "plt.title('US Confirmed April Cases')\n",
    "plt.xlabel(\"Date\")\n",
    "plt.ylabel(\"Confirmed Cases\")\n",
    "plt.show"
   ]
  },
  {
   "cell_type": "code",
   "execution_count": 28,
   "metadata": {},
   "outputs": [],
   "source": [
    "#Plot of the other countries with the highest cases for the month of April"
   ]
  },
  {
   "cell_type": "code",
   "execution_count": 29,
   "metadata": {},
   "outputs": [],
   "source": [
    "Countries_List_2=Countries_List[1:]"
   ]
  },
  {
   "cell_type": "code",
   "execution_count": 30,
   "metadata": {},
   "outputs": [],
   "source": [
    "Countries_List_2"
   ]
  },
  {
   "cell_type": "code",
   "execution_count": 31,
   "metadata": {},
   "outputs": [],
   "source": [
    "Color=['Red','Green','Black','Purple']\n",
    "c=0\n",
    "fig,ax=plt.subplots(figsize=(15,5))\n",
    "for i in Countries_List_2:\n",
    "    a=Highest_Cases_data[Highest_Cases_data['Country/Region']==i]\n",
    "    ax.plot(a.index,a['Confirmed_cases'],color=Color[c])\n",
    "    c+=1\n",
    "ax.legend(Countries_List_2,loc='best')\n",
    "plt.xticks(rotation='vertical')\n",
    "ax=plt.gca()\n",
    "plt.title('Most Affected Countries Except US( Confirmed April Cases)')\n",
    "ax.set_ylim([0,250000])\n",
    "plt.xlabel(\"Date\")\n",
    "plt.ylabel(\"Confirmed Cases\")\n",
    "plt.show"
   ]
  },
  {
   "cell_type": "code",
   "execution_count": 32,
   "metadata": {},
   "outputs": [],
   "source": [
    "###Confirmed vs recovered for the whole dataset"
   ]
  },
  {
   "cell_type": "code",
   "execution_count": 33,
   "metadata": {},
   "outputs": [],
   "source": [
    "Recovered_data.shape"
   ]
  },
  {
   "cell_type": "code",
   "execution_count": 34,
   "metadata": {},
   "outputs": [],
   "source": [
    "Confirmed_data.shape"
   ]
  },
  {
   "cell_type": "code",
   "execution_count": 35,
   "metadata": {},
   "outputs": [],
   "source": [
    "#Summing for values with duplicated region/Country\n",
    "Confirmed_data_April=Confirmed_data.groupby([Confirmed_data.index,'Country/Region']).agg({'Confirmed_cases': 'sum'})"
   ]
  },
  {
   "cell_type": "code",
   "execution_count": 36,
   "metadata": {},
   "outputs": [],
   "source": [
    "Confirmed_data_April=Confirmed_data_April.loc['01/04/2020':'30/04/2020']"
   ]
  },
  {
   "cell_type": "code",
   "execution_count": 37,
   "metadata": {},
   "outputs": [],
   "source": [
    "Confirmed_data_April.tail()"
   ]
  },
  {
   "cell_type": "code",
   "execution_count": 38,
   "metadata": {},
   "outputs": [],
   "source": [
    "Confirmed_data_April.head()"
   ]
  },
  {
   "cell_type": "code",
   "execution_count": 39,
   "metadata": {},
   "outputs": [],
   "source": [
    "Confirmed_Country_Max = Confirmed_data_April.groupby(['Country/Region']).max()"
   ]
  },
  {
   "cell_type": "code",
   "execution_count": 40,
   "metadata": {},
   "outputs": [],
   "source": [
    "Confirmed_Country_Max.reset_index(inplace=True)"
   ]
  },
  {
   "cell_type": "code",
   "execution_count": 41,
   "metadata": {},
   "outputs": [],
   "source": [
    "Confirmed_Country_Max.head()"
   ]
  },
  {
   "cell_type": "code",
   "execution_count": 42,
   "metadata": {},
   "outputs": [],
   "source": [
    "#Summing for values with duplicated region/Country\n",
    "Recovered_data_April = Recovered_data.groupby([Recovered_data.index,'Country/Region']).agg({'Recovered_cases': 'sum'})"
   ]
  },
  {
   "cell_type": "code",
   "execution_count": 43,
   "metadata": {},
   "outputs": [],
   "source": [
    "Recovered_data_April=Recovered_data_April.loc['01/04/2020':'30/04/2020']"
   ]
  },
  {
   "cell_type": "code",
   "execution_count": 44,
   "metadata": {},
   "outputs": [],
   "source": [
    "#Getting the maximum recovery cases\n",
    "Recovered_Country_Max = Recovered_data_April.groupby(['Country/Region']).max()"
   ]
  },
  {
   "cell_type": "code",
   "execution_count": 45,
   "metadata": {},
   "outputs": [],
   "source": [
    "Recovered_Country_Max.reset_index(inplace=True)"
   ]
  },
  {
   "cell_type": "code",
   "execution_count": 46,
   "metadata": {},
   "outputs": [],
   "source": [
    "Recovered_Country_Max.head()"
   ]
  },
  {
   "cell_type": "code",
   "execution_count": 47,
   "metadata": {},
   "outputs": [],
   "source": [
    "Confirmed_Recovered_data=Confirmed_Country_Max"
   ]
  },
  {
   "cell_type": "code",
   "execution_count": 48,
   "metadata": {},
   "outputs": [],
   "source": [
    "Confirmed_Recovered_data['Recovered_cases']=Recovered_Country_Max['Recovered_cases']"
   ]
  },
  {
   "cell_type": "code",
   "execution_count": 49,
   "metadata": {},
   "outputs": [],
   "source": [
    "Confirmed_Recovered_data.head()"
   ]
  },
  {
   "cell_type": "code",
   "execution_count": 50,
   "metadata": {},
   "outputs": [],
   "source": [
    "#Getting the recovery rates per country column"
   ]
  },
  {
   "cell_type": "code",
   "execution_count": 51,
   "metadata": {},
   "outputs": [],
   "source": [
    "Confirmed_Recovered_data['Recovery rate']=Confirmed_Recovered_data['Recovered_cases']/Confirmed_Recovered_data['Confirmed_cases']"
   ]
  },
  {
   "cell_type": "code",
   "execution_count": 52,
   "metadata": {},
   "outputs": [],
   "source": [
    "Confirmed_Recovered_data.head()"
   ]
  },
  {
   "cell_type": "code",
   "execution_count": 53,
   "metadata": {},
   "outputs": [],
   "source": [
    "#Visualizing the recovery rate of the Most affected countries in the world(8 Countries)"
   ]
  },
  {
   "cell_type": "code",
   "execution_count": 54,
   "metadata": {},
   "outputs": [],
   "source": [
    "Countries_Most_Affected=Confirmed_Recovered_data.groupby(\"Country/Region\").max().sort_values(by=\"Confirmed_cases\",ascending=False).head(8)"
   ]
  },
  {
   "cell_type": "code",
   "execution_count": 55,
   "metadata": {},
   "outputs": [],
   "source": [
    "Countries_Most_Affected.reset_index(inplace=True)"
   ]
  },
  {
   "cell_type": "code",
   "execution_count": 56,
   "metadata": {},
   "outputs": [],
   "source": [
    "Countries_Most_Affected.head()"
   ]
  },
  {
   "cell_type": "code",
   "execution_count": 57,
   "metadata": {},
   "outputs": [],
   "source": [
    "sns.barplot(x='Country/Region',y='Recovery rate',data=Countries_Most_Affected,order=['United Kingdom','Russia','US','France','Brazil','Italy','Spain','Germany'])\n",
    "plt.xticks(rotation='vertical')"
   ]
  },
  {
   "cell_type": "code",
   "execution_count": 58,
   "metadata": {},
   "outputs": [],
   "source": [
    "#Interpretation, Results & Conclusion"
   ]
  },
  {
   "cell_type": "code",
   "execution_count": 59,
   "metadata": {},
   "outputs": [],
   "source": [
    "#Analysis of Kenya data;what were the measures put in place?(graph them)(when?), how has it affected the incidence rate(new infectation)"
   ]
  },
  {
   "cell_type": "code",
   "execution_count": 60,
   "metadata": {},
   "outputs": [],
   "source": [
    "Kenyan_Confirmed=Confirmed_data[Confirmed_data['Country/Region']=='Kenya']"
   ]
  },
  {
   "cell_type": "code",
   "execution_count": 61,
   "metadata": {},
   "outputs": [],
   "source": [
    "Kenyan_Confirmed=Kenyan_Confirmed['01/04/2020':'30/04/2020']"
   ]
  },
  {
   "cell_type": "code",
   "execution_count": 62,
   "metadata": {},
   "outputs": [],
   "source": [
    "Kenyan_Confirmed.head()"
   ]
  },
  {
   "cell_type": "code",
   "execution_count": 63,
   "metadata": {},
   "outputs": [],
   "source": [
    "Kenyan_Confirmed.reset_index(inplace=True)"
   ]
  },
  {
   "cell_type": "code",
   "execution_count": 64,
   "metadata": {},
   "outputs": [],
   "source": [
    "Kenyan_Confirmed.head()"
   ]
  },
  {
   "cell_type": "code",
   "execution_count": 65,
   "metadata": {},
   "outputs": [],
   "source": [
    "Kenyan_Confirmed.rename(columns={'index':'Day'},inplace=True)"
   ]
  },
  {
   "cell_type": "code",
   "execution_count": 66,
   "metadata": {},
   "outputs": [],
   "source": [
    "Kenyan_Confirmed.head()"
   ]
  },
  {
   "cell_type": "code",
   "execution_count": 67,
   "metadata": {},
   "outputs": [],
   "source": [
    "#Plot of confirmed cases over_time"
   ]
  },
  {
   "cell_type": "code",
   "execution_count": 68,
   "metadata": {},
   "outputs": [],
   "source": [
    "fig,ax=plt.subplots(figsize=(15,5))\n",
    "sns.lineplot(y='Confirmed_cases',x='Day',ax=ax,data=Kenyan_Confirmed,marker='s')\n",
    "plt.xticks(rotation=\"vertical\")\n",
    "ax.set_ylim([0,450])\n",
    "sns.set_style(\"darkgrid\")\n",
    "plt.title(\"Total Confirmed Cases\")\n",
    "plt.show()"
   ]
  },
  {
   "cell_type": "code",
   "execution_count": 69,
   "metadata": {},
   "outputs": [],
   "source": [
    "Kenyan_Confirmed['Daily_Confirmed_cases']=Kenyan_Confirmed['Confirmed_cases'].diff()"
   ]
  },
  {
   "cell_type": "code",
   "execution_count": 70,
   "metadata": {},
   "outputs": [],
   "source": [
    "Kenyan_Confirmed.head()"
   ]
  },
  {
   "cell_type": "code",
   "execution_count": 71,
   "metadata": {},
   "outputs": [],
   "source": [
    "#Dropping the first day\n",
    "Kenyan_Daily_Confirmed=Kenyan_Confirmed.dropna(axis=0)"
   ]
  },
  {
   "cell_type": "code",
   "execution_count": 72,
   "metadata": {},
   "outputs": [],
   "source": [
    "Kenyan_Daily_Confirmed.head()"
   ]
  },
  {
   "cell_type": "code",
   "execution_count": 73,
   "metadata": {},
   "outputs": [],
   "source": [
    "fig,ax=plt.subplots(figsize=(15,5))\n",
    "sns.lineplot(y='Daily_Confirmed_cases',x='Day',data=Kenyan_Daily_Confirmed,marker='o')\n",
    "plt.xticks(rotation=\"vertical\")\n",
    "ax.set_ylim([0,30])\n",
    "sns.set_style(\"darkgrid\")\n",
    "plt.title(\"April-Kenya Daily Cases\")\n",
    "plt.show()"
   ]
  },
  {
   "cell_type": "code",
   "execution_count": 74,
   "metadata": {},
   "outputs": [],
   "source": [
    "#Kenya testing data scrapped from daily press briefings by the Ministry of Health Kenya"
   ]
  },
  {
   "cell_type": "code",
   "execution_count": 75,
   "metadata": {},
   "outputs": [],
   "source": [
    "Dates=Kenyan_Confirmed['Day'].to_list()"
   ]
  },
  {
   "cell_type": "code",
   "execution_count": 76,
   "metadata": {},
   "outputs": [],
   "source": [
    "#Converting the dates to a list\n",
    "#It is worth noting that some days had missing information of test data thus we shall drop those days"
   ]
  },
  {
   "cell_type": "code",
   "execution_count": 77,
   "metadata": {},
   "outputs": [],
   "source": [
    "#Dropping days with missing test data"
   ]
  },
  {
   "cell_type": "code",
   "execution_count": 78,
   "metadata": {},
   "outputs": [],
   "source": [
    "Dates=Dates[1:]"
   ]
  },
  {
   "cell_type": "code",
   "execution_count": 79,
   "metadata": {},
   "outputs": [],
   "source": [
    "Test_Missing=['06/04/2020','08/04/2020','16/04/2020','17/04/2020','20/04/2020','25/04/2020','26/04/2020','27/04/2020','28/04/2020']\n",
    "Test_Dates=[item for item in Dates if item not in Test_Missing]"
   ]
  },
  {
   "cell_type": "code",
   "execution_count": 80,
   "metadata": {},
   "outputs": [],
   "source": [
    "Kenyan_tested=[662,362,372,530,696,308,504,491,766,674,694,803,1115,1330,545,707,668,946,508,777]"
   ]
  },
  {
   "cell_type": "code",
   "execution_count": 81,
   "metadata": {},
   "outputs": [],
   "source": [
    "d={'Test Days':Test_Dates,'Count Sample Tests':Kenyan_tested}"
   ]
  },
  {
   "cell_type": "code",
   "execution_count": 82,
   "metadata": {},
   "outputs": [],
   "source": [
    "df_Tests=pd.DataFrame(d)"
   ]
  },
  {
   "cell_type": "code",
   "execution_count": 83,
   "metadata": {},
   "outputs": [],
   "source": [
    "df_Tests"
   ]
  },
  {
   "cell_type": "code",
   "execution_count": 84,
   "metadata": {},
   "outputs": [],
   "source": [
    "#Visualizing the same"
   ]
  },
  {
   "cell_type": "code",
   "execution_count": 85,
   "metadata": {},
   "outputs": [],
   "source": [
    "fig,ax=plt.subplots(figsize=(12,5))\n",
    "sns.barplot(y='Count Sample Tests',x='Test Days',data=df_Tests,color='b')\n",
    "plt.xticks(rotation=\"vertical\")\n",
    "sns.set_style(\"darkgrid\")\n",
    "plt.title(\"Daily Test Cases\")\n",
    "plt.show()"
   ]
  },
  {
   "cell_type": "code",
   "execution_count": 86,
   "metadata": {},
   "outputs": [],
   "source": [
    "##Confirmed Cases & Recovery Trends of COVID-19 Among the Most Affected Countries"
   ]
  },
  {
   "cell_type": "code",
   "execution_count": 87,
   "metadata": {},
   "outputs": [],
   "source": [
    "## Confirmed Cases & Recovery Trends of COVID-19 Among the Most Affected Countries"
   ]
  },
  {
   "cell_type": "code",
   "execution_count": 88,
   "metadata": {},
   "outputs": [],
   "source": [
    "#Setting up a working directory\n",
    "import os\n",
    "os.chdir(\"C:/Users/Lenovo/Desktop/Data Insight/Analysis\")\n",
    "%notebook \"C:/Users/Lenovo/Desktop/Data Insight/Analysis/to/file/Covid 19 Analysis.ipynb\"#Saving file "
   ]
  },
  {
   "cell_type": "code",
   "execution_count": 89,
   "metadata": {},
   "outputs": [],
   "source": [
    "#Setting up a working directory\n",
    "import os\n",
    "os.chdir(\"C:/Users/Lenovo/Desktop/Data Insight/Analysis\")\n",
    "#Saving the notebook\n",
    "%notebook \"C:/Users/Lenovo/Desktop/Data Insight/Analysis/to/file/Covid 19 Analysis.ipynb\""
   ]
  },
  {
   "cell_type": "code",
   "execution_count": 90,
   "metadata": {},
   "outputs": [],
   "source": [
    "pwd"
   ]
  },
  {
   "cell_type": "code",
   "execution_count": 91,
   "metadata": {},
   "outputs": [],
   "source": [
    "#Setting up a working directory\n",
    "import os\n",
    "os.chdir(\"C:/Users/Lenovo/Desktop/Data Insight/Analysis\")\n",
    "#Saving the notebook\n",
    "%notebook \"C:/Users/Lenovo/Desktop/Data Insight/Analysis/Covid 19 Analysis.ipynb\""
   ]
  },
  {
   "cell_type": "code",
   "execution_count": 92,
   "metadata": {},
   "outputs": [],
   "source": [
    "#Setting up a working directory\n",
    "import os\n",
    "os.chdir(\"C:/Users/Lenovo/Desktop/Data Insight/Analysis\")\n",
    "#Saving the notebook\n",
    "%notebook \"C:/Users/Lenovo/Desktop/Data Insight/Analysis/Covid 19 Analysis.ipynb\""
   ]
  },
  {
   "cell_type": "code",
   "execution_count": 93,
   "metadata": {},
   "outputs": [],
   "source": [
    "#Importing the necessarily libraries to carry out the EDA\n",
    "import pandas as pd\n",
    "import numpy as np\n",
    "import matplotlib.pyplot as plt\n",
    "import seaborn as sns"
   ]
  },
  {
   "cell_type": "code",
   "execution_count": 94,
   "metadata": {},
   "outputs": [],
   "source": [
    "# Importing raw datasets"
   ]
  },
  {
   "cell_type": "code",
   "execution_count": 95,
   "metadata": {},
   "outputs": [],
   "source": [
    "#Saving the raw data of the covid19 recovered cases & confirmed cases to their respective variables\n",
    "#This data is updated on a daily basis from data source as per the respective url's: https://github.com/CSSEGISandData/COVID-19/tree/master/csse_covid_19_data/csse_covid_19_time_series\n",
    "recovered_csv=\"https://raw.githubusercontent.com/CSSEGISandData/COVID-19/master/csse_covid_19_data/csse_covid_19_time_series/time_series_covid19_recovered_global.csv\"\n",
    "confirmed_csv=\"https://raw.githubusercontent.com/CSSEGISandData/COVID-19/master/csse_covid_19_data/csse_covid_19_time_series/time_series_covid19_confirmed_global.csv\""
   ]
  },
  {
   "cell_type": "code",
   "execution_count": 96,
   "metadata": {},
   "outputs": [],
   "source": [
    "#Reading in the data to dataframes\n",
    "recovered_timeseries_df=pd.read_csv(recovered_csv)\n",
    "confirmed_timeseries_df=pd.read_csv(confirmed_csv)"
   ]
  },
  {
   "cell_type": "code",
   "execution_count": 97,
   "metadata": {},
   "outputs": [],
   "source": [
    "recovered_timeseries_df.head()"
   ]
  },
  {
   "cell_type": "code",
   "execution_count": 98,
   "metadata": {},
   "outputs": [],
   "source": [
    "#Inspecting the data sets\n",
    "recovered_timeseries_df.head()"
   ]
  },
  {
   "cell_type": "code",
   "execution_count": 99,
   "metadata": {},
   "outputs": [],
   "source": [
    "confirmed_timeseries_df.head()"
   ]
  },
  {
   "cell_type": "code",
   "execution_count": 100,
   "metadata": {},
   "outputs": [],
   "source": [
    "#Confirming that the column names in the two datasets are the same i.e the data structures are the same\n",
    "confirmed_timeseries_df.columns==recovered_timeseries_df.columns"
   ]
  },
  {
   "cell_type": "code",
   "execution_count": 101,
   "metadata": {},
   "outputs": [],
   "source": [
    "#Since the columns in the df's are the same we can come up with a function to massage the data\n",
    "#we shall drop columns Province/State,Lat,Long as we don't require it in our analysis\n",
    "def reshape_data(recovered_timeseries_df,confirmed_timeseries_df):\n",
    "    confirmed=confirmed_timeseries_df.melt(id_vars=['Province/State','Country/Region','Lat','Long'],var_name='Date',value_name='Confirmed_cases').drop(columns=['Province/State','Lat','Long'])\n",
    "    recovered=recovered_timeseries_df.melt(id_vars=['Province/State','Country/Region','Lat','Long'],var_name='Date',value_name='Recovered_cases').drop(columns=['Province/State','Lat','Long'])\n",
    "    confirmed['Date']=pd.to_datetime(confirmed['Date'])\n",
    "    recovered['Date']=pd.to_datetime(recovered['Date'])\n",
    "    recovered.set_index(\"Date\",inplace=True)\n",
    "    confirmed.set_index(\"Date\",inplace=True)\n",
    "    recovered.index = recovered.index.strftime('%d/%m/%Y')\n",
    "    confirmed.index = confirmed.index.strftime('%d/%m/%Y')\n",
    "        \n",
    "    return (confirmed,recovered)"
   ]
  },
  {
   "cell_type": "code",
   "execution_count": 102,
   "metadata": {},
   "outputs": [],
   "source": [
    "sns.barplot(x='Country/Region',y='Recovery rate',data=Countries_Most_Affected,order=['United Kingdom','Russia','US','France','Brazil','Italy','Spain','Germany'])\n",
    "plt.xticks(rotation='vertical')\n",
    "plt.title(\"Recovery Rates for Countries Most Affected\")"
   ]
  },
  {
   "cell_type": "code",
   "execution_count": 103,
   "metadata": {},
   "outputs": [],
   "source": [
    "Confirmed_data,Recovered_data=reshape_data(recovered_timeseries_df,confirmed_timeseries_df)"
   ]
  },
  {
   "cell_type": "code",
   "execution_count": 104,
   "metadata": {},
   "outputs": [],
   "source": [
    "Confirmed_data.head()"
   ]
  },
  {
   "cell_type": "code",
   "execution_count": 105,
   "metadata": {},
   "outputs": [],
   "source": [
    "Recovered_data.head()"
   ]
  },
  {
   "cell_type": "code",
   "execution_count": 106,
   "metadata": {},
   "outputs": [],
   "source": [
    "#Setting up a working directory\n",
    "import os\n",
    "os.chdir(\"C:/Users/Lenovo/Desktop/Data Insight/Analysis\")\n",
    "#Saving the notebook\n",
    "%notebook \"C:/Users/Lenovo/Desktop/Data Insight/Analysis/Covid 19 Analysis.ipynb\""
   ]
  },
  {
   "cell_type": "code",
   "execution_count": 107,
   "metadata": {},
   "outputs": [],
   "source": [
    "#Importing the necessarily libraries to carry out the EDA\n",
    "import pandas as pd\n",
    "import numpy as np\n",
    "import matplotlib.pyplot as plt\n",
    "import seaborn as sns"
   ]
  },
  {
   "cell_type": "code",
   "execution_count": 108,
   "metadata": {},
   "outputs": [],
   "source": [
    "#Filtering the countries with a high number of confirmed cases registered for the month of April 2020\n",
    "High_Cases_Confirmed=Confirmed_data['01/04/2020':'30/04/2020'].groupby(\"Country/Region\").max().sort_values(by=\"Confirmed_cases\",ascending=False).head(5)"
   ]
  },
  {
   "cell_type": "code",
   "execution_count": 109,
   "metadata": {},
   "outputs": [],
   "source": [
    "High_Cases_Confirmed.index"
   ]
  },
  {
   "cell_type": "code",
   "execution_count": 110,
   "metadata": {},
   "outputs": [],
   "source": [
    "#Create list of the countries with the highest no of confirmed cases as at end of April\n",
    "Countries_List=High_Cases_Confirmed.index.to_list()"
   ]
  },
  {
   "cell_type": "code",
   "execution_count": 111,
   "metadata": {},
   "outputs": [],
   "source": [
    "Countries_List"
   ]
  },
  {
   "cell_type": "code",
   "execution_count": 112,
   "metadata": {},
   "outputs": [],
   "source": [
    "#Filtering the confirmed cases data with Countries list for the month of April 2020 & summing over Confirmed_cases for any cases  of duplicated Country/Region per day\n",
    "def April_data(data,count_column):\n",
    "    data1=data[data[\"Country/Region\"].isin (Countries_List)]\n",
    "    data1=data1['01/04/2020':'30/04/2020']\n",
    "    data1 = data1.groupby([data1.index,'Country/Region']).agg({count_column: 'sum'})\n",
    "    data1.reset_index(inplace=True)\n",
    "    data1.set_index('level_0',inplace=True)\n",
    "    data1.index.rename('Date',inplace=True)\n",
    "    return data1"
   ]
  },
  {
   "cell_type": "code",
   "execution_count": 113,
   "metadata": {},
   "outputs": [],
   "source": [
    "Highest_Cases_data=April_data(Confirmed_data,'Confirmed_cases')"
   ]
  },
  {
   "cell_type": "code",
   "execution_count": 114,
   "metadata": {},
   "outputs": [],
   "source": [
    "Highest_Cases_data.index"
   ]
  },
  {
   "cell_type": "code",
   "execution_count": 115,
   "metadata": {},
   "outputs": [],
   "source": [
    "Highest_Cases_data"
   ]
  },
  {
   "cell_type": "code",
   "execution_count": 116,
   "metadata": {},
   "outputs": [],
   "source": [
    "Highest_Cases_data.head()"
   ]
  },
  {
   "cell_type": "code",
   "execution_count": 117,
   "metadata": {},
   "outputs": [],
   "source": [
    "Highest_Cases_data.head()"
   ]
  },
  {
   "cell_type": "code",
   "execution_count": 118,
   "metadata": {},
   "outputs": [],
   "source": [
    "Highest_Recovery_data=April_data(Recovered_data,'Recovered_cases')"
   ]
  },
  {
   "cell_type": "code",
   "execution_count": 119,
   "metadata": {},
   "outputs": [],
   "source": [
    "Color=['Red','Blue','Green','Black','Purple']\n",
    "c=0\n",
    "fig,ax=plt.subplots(figsize=(14,9))\n",
    "for i in Countries_List:\n",
    "    a=Highest_Cases_data[Highest_Cases_data['Country/Region']==i]\n",
    "    ax.plot(a.index,a['Confirmed_cases'],color=Color[c])\n",
    "    c+=1\n",
    "ax.legend(Countries_List,loc='best')\n",
    "plt.xticks(rotation='vertical')\n",
    "ax=plt.gca()\n",
    "plt.title('Most Affected Countries ( Confirmed April Cases)')\n",
    "plt.xlabel(\"Date\")\n",
    "plt.ylabel(\"Confirmed Cases\")\n",
    "plt.show\n",
    "    "
   ]
  },
  {
   "cell_type": "code",
   "execution_count": 120,
   "metadata": {},
   "outputs": [],
   "source": [
    "### Observation"
   ]
  },
  {
   "cell_type": "code",
   "execution_count": 121,
   "metadata": {},
   "outputs": [],
   "source": [
    "####Us confirmed cases in the month of April"
   ]
  },
  {
   "cell_type": "code",
   "execution_count": 122,
   "metadata": {},
   "outputs": [],
   "source": [
    "#Filtering US cases\n",
    "US_cases=Highest_Cases_data[Highest_Cases_data['Country/Region']=='US']"
   ]
  },
  {
   "cell_type": "code",
   "execution_count": 123,
   "metadata": {},
   "outputs": [],
   "source": [
    "fig,ax=plt.subplots(figsize=(15,5))\n",
    "ax.plot(US_cases.index,US_cases['Confirmed_cases'],color='blue',marker='s')\n",
    "plt.xticks(rotation='vertical')\n",
    "ax.set_ylim([0,1200000])\n",
    "plt.title('US Confirmed April Cases')\n",
    "plt.xlabel(\"Date\")\n",
    "plt.ylabel(\"Confirmed Cases\")\n",
    "plt.show"
   ]
  },
  {
   "cell_type": "code",
   "execution_count": 124,
   "metadata": {},
   "outputs": [],
   "source": [
    "#US April cases plot\n",
    "fig,ax=plt.subplots(figsize=(15,5))\n",
    "ax.plot(US_cases.index,US_cases['Confirmed_cases'],color='blue',marker='s')\n",
    "plt.xticks(rotation='vertical')\n",
    "ax.set_ylim([0,1200000])\n",
    "plt.title('US Confirmed April Cases')\n",
    "plt.xlabel(\"Date\")\n",
    "plt.ylabel(\"Confirmed Cases\")\n",
    "plt.show"
   ]
  },
  {
   "cell_type": "code",
   "execution_count": 125,
   "metadata": {},
   "outputs": [],
   "source": [
    "Countries_List_2=Countries_List[1:]"
   ]
  },
  {
   "cell_type": "code",
   "execution_count": 126,
   "metadata": {},
   "outputs": [],
   "source": [
    "#Subsetting the Countries_List data to exclude US\n",
    "Countries_List_2=Countries_List[1:]"
   ]
  },
  {
   "cell_type": "code",
   "execution_count": 127,
   "metadata": {},
   "outputs": [],
   "source": [
    "Countries_List_2"
   ]
  },
  {
   "cell_type": "code",
   "execution_count": 128,
   "metadata": {},
   "outputs": [],
   "source": [
    "#Plot\n",
    "Color=['Red','Green','Black','Purple']\n",
    "c=0\n",
    "fig,ax=plt.subplots(figsize=(15,5))\n",
    "for i in Countries_List_2:\n",
    "    a=Highest_Cases_data[Highest_Cases_data['Country/Region']==i]\n",
    "    ax.plot(a.index,a['Confirmed_cases'],color=Color[c])\n",
    "    c+=1\n",
    "ax.legend(Countries_List_2,loc='best')\n",
    "plt.xticks(rotation='vertical')\n",
    "ax=plt.gca()\n",
    "plt.title('Most Affected Countries Except US( Confirmed April Cases)')\n",
    "ax.set_ylim([0,250000])\n",
    "plt.xlabel(\"Date\")\n",
    "plt.ylabel(\"Confirmed Cases\")\n",
    "plt.show"
   ]
  },
  {
   "cell_type": "code",
   "execution_count": 129,
   "metadata": {},
   "outputs": [],
   "source": [
    "#Mean of US confirmed cases in April\n",
    "Us_mean_April=np.mean(US_cases)"
   ]
  },
  {
   "cell_type": "code",
   "execution_count": 130,
   "metadata": {},
   "outputs": [],
   "source": [
    "Us_mean_April"
   ]
  },
  {
   "cell_type": "code",
   "execution_count": 131,
   "metadata": {},
   "outputs": [],
   "source": [
    "#Mean of US confirmed cases in April\n",
    "Us_mean_April=np.min(US_cases)"
   ]
  },
  {
   "cell_type": "code",
   "execution_count": 132,
   "metadata": {},
   "outputs": [],
   "source": [
    "Us_mean_April"
   ]
  },
  {
   "cell_type": "code",
   "execution_count": 133,
   "metadata": {},
   "outputs": [],
   "source": [
    "#Mean of US confirmed cases in April\n",
    "Us_mean_April=np.mean(US_cases)"
   ]
  },
  {
   "cell_type": "code",
   "execution_count": 134,
   "metadata": {},
   "outputs": [],
   "source": [
    "Us_mean_April"
   ]
  },
  {
   "cell_type": "code",
   "execution_count": 135,
   "metadata": {},
   "outputs": [],
   "source": [
    "#### Observation"
   ]
  },
  {
   "cell_type": "code",
   "execution_count": 136,
   "metadata": {},
   "outputs": [],
   "source": [
    "#### Observations"
   ]
  },
  {
   "cell_type": "code",
   "execution_count": 137,
   "metadata": {},
   "outputs": [],
   "source": [
    "#### From the above plot we can observe that:\n",
    "1. Generally there seems to be an almost linear growth of confirmed cases amongst the four countries\n",
    "2. On 12/04/2020 "
   ]
  },
  {
   "cell_type": "code",
   "execution_count": 138,
   "metadata": {},
   "outputs": [],
   "source": [
    "#Summing for values with duplicated region/Country\n",
    "Confirmed_data_April=Confirmed_data.groupby([Confirmed_data.index,'Country/Region']).agg({'Confirmed_cases': 'sum'})"
   ]
  },
  {
   "cell_type": "code",
   "execution_count": 139,
   "metadata": {},
   "outputs": [],
   "source": [
    "Confirmed_Country_Max = Confirmed_data_April.groupby(['Country/Region']).max()"
   ]
  },
  {
   "cell_type": "code",
   "execution_count": 140,
   "metadata": {},
   "outputs": [],
   "source": [
    "Confirmed_Country_Max.reset_index(inplace=True)"
   ]
  },
  {
   "cell_type": "code",
   "execution_count": 141,
   "metadata": {},
   "outputs": [],
   "source": [
    "Confirmed_Country_Max.head()"
   ]
  },
  {
   "cell_type": "code",
   "execution_count": 142,
   "metadata": {},
   "outputs": [],
   "source": [
    "#Summing for values with duplicated region/Country\n",
    "Recovered_data_April = Recovered_data.groupby([Recovered_data.index,'Country/Region']).agg({'Recovered_cases': 'sum'})"
   ]
  },
  {
   "cell_type": "code",
   "execution_count": 143,
   "metadata": {},
   "outputs": [],
   "source": [
    "Recovered_data_April=Recovered_data_April.loc['01/04/2020':'30/04/2020']"
   ]
  },
  {
   "cell_type": "code",
   "execution_count": 144,
   "metadata": {},
   "outputs": [],
   "source": [
    "#Getting the maximum recovery cases\n",
    "Recovered_Country_Max = Recovered_data_April.groupby(['Country/Region']).max()"
   ]
  },
  {
   "cell_type": "code",
   "execution_count": 145,
   "metadata": {},
   "outputs": [],
   "source": [
    "Recovered_Country_Max.reset_index(inplace=True)"
   ]
  },
  {
   "cell_type": "code",
   "execution_count": 146,
   "metadata": {},
   "outputs": [],
   "source": [
    "Recovered_Country_Max.head()"
   ]
  },
  {
   "cell_type": "code",
   "execution_count": 147,
   "metadata": {},
   "outputs": [],
   "source": [
    "#Adding a Recovered_cases column to create a new dataframe\n",
    "Confirmed_Recovered_data['Recovered_cases']=Recovered_Country_Max['Recovered_cases']"
   ]
  },
  {
   "cell_type": "code",
   "execution_count": 148,
   "metadata": {},
   "outputs": [],
   "source": [
    "Confirmed_Recovered_data.head()"
   ]
  },
  {
   "cell_type": "code",
   "execution_count": 149,
   "metadata": {},
   "outputs": [],
   "source": [
    "Confirmed_Recovered_data.head()"
   ]
  },
  {
   "cell_type": "code",
   "execution_count": 150,
   "metadata": {},
   "outputs": [],
   "source": [
    "#Getting the recovery rates per country column"
   ]
  },
  {
   "cell_type": "code",
   "execution_count": 151,
   "metadata": {},
   "outputs": [],
   "source": [
    "Confirmed_Recovered_data['Recovery rate']=Confirmed_Recovered_data['Recovered_cases']/Confirmed_Recovered_data['Confirmed_cases']"
   ]
  },
  {
   "cell_type": "code",
   "execution_count": 152,
   "metadata": {},
   "outputs": [],
   "source": [
    "Confirmed_Recovered_data.head()"
   ]
  },
  {
   "cell_type": "code",
   "execution_count": 153,
   "metadata": {},
   "outputs": [],
   "source": [
    "#Visualizing the recovery rate of the Most affected countries in the world(8 Countries)"
   ]
  },
  {
   "cell_type": "code",
   "execution_count": 154,
   "metadata": {},
   "outputs": [],
   "source": [
    "Countries_Most_Affected=Confirmed_Recovered_data.groupby(\"Country/Region\").max().sort_values(by=\"Confirmed_cases\",ascending=False).head(8)"
   ]
  },
  {
   "cell_type": "code",
   "execution_count": 155,
   "metadata": {},
   "outputs": [],
   "source": [
    "Countries_Most_Affected=Confirmed_Recovered_data.groupby(\"Country/Region\").max().sort_values(by=\"Confirmed_cases\",ascending=False).head(8)"
   ]
  },
  {
   "cell_type": "code",
   "execution_count": 156,
   "metadata": {},
   "outputs": [],
   "source": [
    "Countries_Most_Affected.reset_index(inplace=True)"
   ]
  },
  {
   "cell_type": "code",
   "execution_count": 157,
   "metadata": {},
   "outputs": [],
   "source": [
    "Countries_Most_Affected.head()"
   ]
  },
  {
   "cell_type": "code",
   "execution_count": 158,
   "metadata": {},
   "outputs": [],
   "source": [
    "sns.barplot(x='Country/Region',y='Recovery rate',data=Countries_Most_Affected,order=['United Kingdom','Russia','US','France','Brazil','Italy','Spain','Germany'])\n",
    "plt.xticks(rotation='vertical')\n",
    "plt.title(\"Recovery Rates for Countries Most Affected\")"
   ]
  },
  {
   "cell_type": "code",
   "execution_count": 159,
   "metadata": {},
   "outputs": [],
   "source": [
    "Date_x=['01/02/2020','06/04/2020','08/04/2020','16/04/2020','17/04/2020','20/04/2020','25/04/2020','26/04/2020','27/04/2020','28/04/2020']\n",
    "for i in Date_x:"
   ]
  },
  {
   "cell_type": "code",
   "execution_count": 160,
   "metadata": {},
   "outputs": [],
   "source": [
    "Date_x=['01/02/2020','06/04/2020','08/04/2020','16/04/2020','17/04/2020','20/04/2020','25/04/2020','26/04/2020','27/04/2020','28/04/2020']\n",
    "Kenya_x=Kenyan_Confirmed.drop(Date_x)\n",
    "    "
   ]
  },
  {
   "cell_type": "code",
   "execution_count": 161,
   "metadata": {},
   "outputs": [],
   "source": [
    "Kenya_x=Kenyan_Confirmed.drop(['01/02/2020','06/04/2020','08/04/2020','16/04/2020','17/04/2020','20/04/2020','25/04/2020','26/04/2020','27/04/2020','28/04/2020'])\n",
    "    "
   ]
  },
  {
   "cell_type": "code",
   "execution_count": 162,
   "metadata": {},
   "outputs": [],
   "source": [
    "Kenya_x=Kenyan_Confirmed.set_index(columns='Day')\n",
    "Kenya_x=Kenyan_Confirmed.drop(['01/02/2020','06/04/2020','08/04/2020','16/04/2020','17/04/2020','20/04/2020','25/04/2020','26/04/2020','27/04/2020','28/04/2020'])"
   ]
  },
  {
   "cell_type": "code",
   "execution_count": 163,
   "metadata": {},
   "outputs": [],
   "source": [
    "Kenya_x=Kenyan_Confirmed.set_index(columns={'Day'})\n",
    "Kenya_x=Kenyan_Confirmed.drop(['01/02/2020','06/04/2020','08/04/2020','16/04/2020','17/04/2020','20/04/2020','25/04/2020','26/04/2020','27/04/2020','28/04/2020'])"
   ]
  },
  {
   "cell_type": "code",
   "execution_count": 164,
   "metadata": {},
   "outputs": [],
   "source": [
    "Kenya_x=Kenyan_Confirmed.set_index('Day')\n",
    "Kenya_x=Kenyan_Confirmed.drop(['01/02/2020','06/04/2020','08/04/2020','16/04/2020','17/04/2020','20/04/2020','25/04/2020','26/04/2020','27/04/2020','28/04/2020'])"
   ]
  },
  {
   "cell_type": "code",
   "execution_count": 165,
   "metadata": {},
   "outputs": [],
   "source": [
    "Kenya_x=Kenyan_Confirmed.set_index('Day')\n",
    "#Kenya_x=Kenyan_Confirmed.drop(['01/02/2020','06/04/2020','08/04/2020','16/04/2020','17/04/2020','20/04/2020','25/04/2020','26/04/2020','27/04/2020','28/04/2020'])\n",
    "Kenya_x.head()"
   ]
  },
  {
   "cell_type": "code",
   "execution_count": 166,
   "metadata": {},
   "outputs": [],
   "source": [
    "Kenya_x=Kenyan_Confirmed.set_index('Day')\n",
    "Kenya_x=Kenyan_x.drop(['01/02/2020','06/04/2020','08/04/2020','16/04/2020','17/04/2020','20/04/2020','25/04/2020','26/04/2020','27/04/2020','28/04/2020'])\n",
    "Kenya_x.head()"
   ]
  },
  {
   "cell_type": "code",
   "execution_count": 167,
   "metadata": {},
   "outputs": [],
   "source": [
    "Kenya_x=Kenyan_Confirmed.set_index('Day')\n",
    "Kenya_x=Kenya_x.drop(['01/02/2020','06/04/2020','08/04/2020','16/04/2020','17/04/2020','20/04/2020','25/04/2020','26/04/2020','27/04/2020','28/04/2020'])\n",
    "Kenya_x.head()"
   ]
  },
  {
   "cell_type": "code",
   "execution_count": 168,
   "metadata": {},
   "outputs": [],
   "source": [
    "Kenya_x=Kenyan_Confirmed.set_index('Day')\n",
    "Kenya_x=Kenya_x.drop(['01/04/2020','06/04/2020','08/04/2020','16/04/2020','17/04/2020','20/04/2020','25/04/2020','26/04/2020','27/04/2020','28/04/2020'])\n",
    "Kenya_x.head()"
   ]
  },
  {
   "cell_type": "code",
   "execution_count": 169,
   "metadata": {},
   "outputs": [],
   "source": [
    "Kenya_x=Kenyan_Confirmed.set_index('Day')\n",
    "Kenya_x=Kenya_x.drop(['01/04/2020','06/04/2020','08/04/2020','16/04/2020','17/04/2020','20/04/2020','25/04/2020','26/04/2020','27/04/2020','28/04/2020'])\n",
    "Kenya_x.head()\n",
    "len(Kenya_x)"
   ]
  },
  {
   "cell_type": "code",
   "execution_count": 170,
   "metadata": {},
   "outputs": [],
   "source": [
    "Kenya_x=Kenyan_Confirmed.set_index('Day')\n",
    "Kenya_x=Kenya_x.drop(['01/04/2020','06/04/2020','08/04/2020','16/04/2020','17/04/2020','20/04/2020','25/04/2020','26/04/2020','27/04/2020','28/04/2020'])\n",
    "Kenya_x.head()"
   ]
  },
  {
   "cell_type": "code",
   "execution_count": 171,
   "metadata": {},
   "outputs": [],
   "source": [
    "Kenya_x=Kenyan_Confirmed.set_index('Day')\n",
    "Kenya_x=Kenya_x.drop(['01/04/2020','06/04/2020','08/04/2020','16/04/2020','17/04/2020','20/04/2020','25/04/2020','26/04/2020','27/04/2020','28/04/2020'])\n",
    "Kenya_x['Daily Tests']=df_Tests['Count Sample Tests']\n",
    "Kenya_x.head()"
   ]
  },
  {
   "cell_type": "code",
   "execution_count": 172,
   "metadata": {},
   "outputs": [],
   "source": [
    "df_Tests"
   ]
  },
  {
   "cell_type": "code",
   "execution_count": 173,
   "metadata": {},
   "outputs": [],
   "source": [
    "Kenya_x=Kenyan_Confirmed.set_index('Day')\n",
    "Kenya_x=Kenya_x.drop(['01/04/2020','06/04/2020','08/04/2020','16/04/2020','17/04/2020','20/04/2020','25/04/2020','26/04/2020','27/04/2020','28/04/2020'])\n",
    "Kenya_x['Daily Tests']=df_Tests.Count Sample Tests\n",
    "Kenya_x.head()"
   ]
  },
  {
   "cell_type": "code",
   "execution_count": 174,
   "metadata": {},
   "outputs": [],
   "source": [
    "Kenya_x=Kenyan_Confirmed.set_index('Day')\n",
    "Kenya_x=Kenya_x.drop(['01/04/2020','06/04/2020','08/04/2020','16/04/2020','17/04/2020','20/04/2020','25/04/2020','26/04/2020','27/04/2020','28/04/2020'])\n",
    "Kenya_x['Daily Tests']=df_Tests['Count Sample Tests']\n",
    "Kenya_x.head()"
   ]
  },
  {
   "cell_type": "code",
   "execution_count": 175,
   "metadata": {},
   "outputs": [],
   "source": [
    "Kenya_x=Kenyan_Confirmed.set_index('Day')\n",
    "Kenya_x=Kenya_x.drop(['01/04/2020','06/04/2020','08/04/2020','16/04/2020','17/04/2020','20/04/2020','25/04/2020','26/04/2020','27/04/2020','28/04/2020'])\n",
    "df_Tests['Count Sample Tests']\n",
    "#Kenya_x.head()"
   ]
  },
  {
   "cell_type": "code",
   "execution_count": 176,
   "metadata": {},
   "outputs": [],
   "source": [
    "Kenya_x=Kenyan_Confirmed.set_index('Day')\n",
    "Kenya_x=Kenya_x.drop(['01/04/2020','06/04/2020','08/04/2020','16/04/2020','17/04/2020','20/04/2020','25/04/2020','26/04/2020','27/04/2020','28/04/2020'])\n",
    "Kenya_x['Daily Tests']=df_Tests['Count Sample Tests']\n",
    "#Kenya_x.head()"
   ]
  },
  {
   "cell_type": "code",
   "execution_count": 177,
   "metadata": {},
   "outputs": [],
   "source": [
    "Kenya_x=Kenyan_Confirmed.set_index('Day')\n",
    "Kenya_x=Kenya_x.drop(['01/04/2020','06/04/2020','08/04/2020','16/04/2020','17/04/2020','20/04/2020','25/04/2020','26/04/2020','27/04/2020','28/04/2020'])\n",
    "Kenya_x['Daily Tests']=df_Tests['Count Sample Tests']\n",
    "Kenya_x.head()"
   ]
  },
  {
   "cell_type": "code",
   "execution_count": 178,
   "metadata": {},
   "outputs": [],
   "source": [
    "Kenya_x=Kenyan_Confirmed.set_index('Day')\n",
    "Kenya_x=Kenya_x.drop(['01/04/2020','06/04/2020','08/04/2020','16/04/2020','17/04/2020','20/04/2020','25/04/2020','26/04/2020','27/04/2020','28/04/2020'])\n",
    "a=df_Tests['Count Sample Tests']\n",
    "#Kenya_x['Daily Tests']=df_Tests['Count Sample Tests']\n",
    "a.astype"
   ]
  },
  {
   "cell_type": "code",
   "execution_count": 179,
   "metadata": {},
   "outputs": [],
   "source": [
    "Kenya_x=Kenyan_Confirmed.set_index('Day')\n",
    "Kenya_x=Kenya_x.drop(['01/04/2020','06/04/2020','08/04/2020','16/04/2020','17/04/2020','20/04/2020','25/04/2020','26/04/2020','27/04/2020','28/04/2020'])\n",
    "a=[df_Tests['Count Sample Tests']]\n",
    "#Kenya_x['Daily Tests']=df_Tests['Count Sample Tests']"
   ]
  },
  {
   "cell_type": "code",
   "execution_count": 180,
   "metadata": {},
   "outputs": [],
   "source": [
    "Kenya_x=Kenyan_Confirmed.set_index('Day')\n",
    "Kenya_x=Kenya_x.drop(['01/04/2020','06/04/2020','08/04/2020','16/04/2020','17/04/2020','20/04/2020','25/04/2020','26/04/2020','27/04/2020','28/04/2020'])\n",
    "a=[df_Tests['Count Sample Tests']]\n",
    "#Kenya_x['Daily Tests']=df_Tests['Count Sample Tests']\n",
    "a"
   ]
  },
  {
   "cell_type": "code",
   "execution_count": 181,
   "metadata": {},
   "outputs": [],
   "source": [
    "Kenya_x=Kenyan_Confirmed.set_index('Day')\n",
    "Kenya_x=Kenya_x.drop(['01/04/2020','06/04/2020','08/04/2020','16/04/2020','17/04/2020','20/04/2020','25/04/2020','26/04/2020','27/04/2020','28/04/2020'])\n",
    "Kenya_x.head()"
   ]
  },
  {
   "cell_type": "code",
   "execution_count": 182,
   "metadata": {},
   "outputs": [],
   "source": [
    "Kenya_x=Kenyan_Confirmed.set_index('Day')\n",
    "Kenya_x=Kenya_x.drop(['01/04/2020','06/04/2020','08/04/2020','16/04/2020','17/04/2020','20/04/2020','25/04/2020','26/04/2020','27/04/2020','28/04/2020'])\n",
    "Kenya_x.reset_index()\n",
    "Kenya_x.head()"
   ]
  },
  {
   "cell_type": "code",
   "execution_count": 183,
   "metadata": {},
   "outputs": [],
   "source": [
    "Kenya_x=Kenyan_Confirmed.set_index('Day')\n",
    "Kenya_x=Kenya_x.drop(['01/04/2020','06/04/2020','08/04/2020','16/04/2020','17/04/2020','20/04/2020','25/04/2020','26/04/2020','27/04/2020','28/04/2020'])\n",
    "Kenya_x.reset_index(inplace=True)\n",
    "Kenya_x.head()"
   ]
  },
  {
   "cell_type": "code",
   "execution_count": 184,
   "metadata": {},
   "outputs": [],
   "source": [
    "Kenya_x=Kenyan_Confirmed.set_index('Day')\n",
    "Kenya_x=Kenya_x.drop(['01/04/2020','06/04/2020','08/04/2020','16/04/2020','17/04/2020','20/04/2020','25/04/2020','26/04/2020','27/04/2020','28/04/2020'])\n",
    "Kenya_x.reset_index(inplace=True)\n",
    "Kenya_x.rename(columns={'Day':'Test Days'})\n",
    "Kenya_x.head()"
   ]
  },
  {
   "cell_type": "code",
   "execution_count": 185,
   "metadata": {},
   "outputs": [],
   "source": [
    "Kenya_x=Kenyan_Confirmed.set_index('Day')\n",
    "Kenya_x=Kenya_x.drop(['01/04/2020','06/04/2020','08/04/2020','16/04/2020','17/04/2020','20/04/2020','25/04/2020','26/04/2020','27/04/2020','28/04/2020'])\n",
    "Kenya_x.reset_index(inplace=True)\n",
    "Kenya_x=Kenya_x.rename(columns={'Day':'Test Days'})\n",
    "Kenya_x.head()"
   ]
  },
  {
   "cell_type": "code",
   "execution_count": 186,
   "metadata": {},
   "outputs": [],
   "source": [
    "Kenya_x=Kenyan_Confirmed.set_index('Day')\n",
    "Kenya_x=Kenya_x.drop(['01/04/2020','06/04/2020','08/04/2020','16/04/2020','17/04/2020','20/04/2020','25/04/2020','26/04/2020','27/04/2020','28/04/2020'])\n",
    "Kenya_x.reset_index(inplace=True)\n",
    "Kenya_x=Kenya_x.rename(columns={'Day':'Test Days'})\n",
    "Kenya_x=pd.merge(df_Tests,Kenya_x,on='Test Days')\n",
    "Kenya_x.head()"
   ]
  },
  {
   "cell_type": "code",
   "execution_count": 187,
   "metadata": {},
   "outputs": [],
   "source": [
    "fig,ax=plt.subplots(figsize=(15,5))\n",
    "ax2=ax.twinx()\n",
    "sns.lineplot(y='Daily_Confirmed_cases',x='Test Days',data=Kenya_x,ax=ax,marker='o')\n",
    "sns.lineplot(y='Count Sample Tests',x='Test Days',data=Kenya_x,ax=ax2,marker='x')\n",
    "plt.xticks(rotation=\"vertical\")\n",
    "ax.set_ylim([0,30])\n",
    "sns.set_style(\"darkgrid\")\n",
    "plt.title(\"April-Kenya Daily Cases\")\n",
    "plt.show()"
   ]
  },
  {
   "cell_type": "code",
   "execution_count": 188,
   "metadata": {},
   "outputs": [],
   "source": [
    "fig,ax=plt.subplots(figsize=(12,6))\n",
    "ax2=ax.twinx()\n",
    "sns.lineplot(y='Daily_Confirmed_cases',x='Test Days',data=Kenya_x,ax=ax,marker='o',color='red')\n",
    "sns.lineplot(y='Count Sample Tests',x='Test Days',data=Kenya_x,ax=ax2,marker='x')\n",
    "plt.xticks(rotation=\"vertical\")\n",
    "ax.set_ylim([0,30])\n",
    "sns.set_style(\"darkgrid\")\n",
    "plt.title(\"Kenya Daily Cases & Test Conducted\")\n",
    "plt.show()"
   ]
  },
  {
   "cell_type": "code",
   "execution_count": 189,
   "metadata": {},
   "outputs": [],
   "source": [
    "fig,ax=plt.subplots(figsize=(12,6))\n",
    "ax2=ax.twinx()\n",
    "sns.lineplot(y='Daily_Confirmed_cases',x='Test Days',data=Kenya_x,ax=ax,marker='o',color='red')\n",
    "sns.lineplot(y='Count Sample Tests',x='Test Days',data=Kenya_x,ax=ax2,marker='x')\n",
    "ax.xticks(rotation=\"vertical\")\n",
    "ax.set_ylim([0,30])\n",
    "sns.set_style(\"darkgrid\")\n",
    "plt.title(\"Kenya Daily Cases & Test Conducted\")\n",
    "plt.show()"
   ]
  },
  {
   "cell_type": "code",
   "execution_count": 190,
   "metadata": {},
   "outputs": [],
   "source": [
    "fig,ax=plt.subplots(figsize=(12,6))\n",
    "ax2=ax.twinx()\n",
    "sns.lineplot(y='Daily_Confirmed_cases',x='Test Days',data=Kenya_x,ax=ax,marker='o',color='red')\n",
    "sns.lineplot(y='Count Sample Tests',x='Test Days',data=Kenya_x,ax=ax2,marker='x')\n",
    "ax.set_xticks(rotation=\"vertical\")\n",
    "ax.set_ylim([0,30])\n",
    "sns.set_style(\"darkgrid\")\n",
    "plt.title(\"Kenya Daily Cases & Test Conducted\")\n",
    "plt.show()"
   ]
  },
  {
   "cell_type": "code",
   "execution_count": 191,
   "metadata": {},
   "outputs": [],
   "source": [
    "fig,ax=plt.subplots(figsize=(12,6))\n",
    "ax2=ax.twinx()\n",
    "sns.lineplot(y='Daily_Confirmed_cases',x='Test Days',data=Kenya_x,ax=ax,marker='o',color='red')\n",
    "sns.lineplot(y='Count Sample Tests',x='Test Days',data=Kenya_x,ax=ax2,marker='x')\n",
    "ax2.xticks(rotation=\"vertical\")\n",
    "ax.set_ylim([0,30])\n",
    "sns.set_style(\"darkgrid\")\n",
    "plt.title(\"Kenya Daily Cases & Test Conducted\")\n",
    "plt.show()"
   ]
  },
  {
   "cell_type": "code",
   "execution_count": 192,
   "metadata": {},
   "outputs": [],
   "source": [
    "fig,ax=plt.subplots(figsize=(12,6))\n",
    "ax2=ax.twinx()\n",
    "sns.lineplot(y='Daily_Confirmed_cases',x='Test Days',data=Kenya_x,ax=ax,marker='o',color='red')\n",
    "sns.lineplot(y='Count Sample Tests',x='Test Days',data=Kenya_x,ax=ax2,marker='x')\n",
    "plt.xticks(rotation=\"vertical\")\n",
    "ax.set_ylim([0,30])\n",
    "sns.set_style(\"darkgrid\")\n",
    "plt.title(\"Kenya Daily Cases & Test Conducted\")\n",
    "plt.show()"
   ]
  },
  {
   "cell_type": "code",
   "execution_count": 193,
   "metadata": {},
   "outputs": [],
   "source": [
    "fig,ax=plt.subplots(figsize=(12,6))\n",
    "ax2=ax.twinx()\n",
    "sns.lineplot(y='Daily_Confirmed_cases',x='Test Days',data=Kenya_x,ax=ax,marker='o',color='red')\n",
    "sns.lineplot(y='Count Sample Tests',x='Test Days',data=Kenya_x,ax=ax2,marker='x')\n",
    "plt.set_xticklabels(rotation=\"vertical\")\n",
    "ax.set_ylim([0,30])\n",
    "sns.set_style(\"darkgrid\")\n",
    "plt.title(\"Kenya Daily Cases & Test Conducted\")\n",
    "plt.show()"
   ]
  },
  {
   "cell_type": "code",
   "execution_count": 194,
   "metadata": {},
   "outputs": [],
   "source": [
    "fig,ax=plt.subplots(figsize=(12,6))\n",
    "ax2=ax.twinx()\n",
    "sns.lineplot(y='Daily_Confirmed_cases',x='Test Days',data=Kenya_x,ax=ax,marker='o',color='red')\n",
    "sns.lineplot(y='Count Sample Tests',x='Test Days',data=Kenya_x,ax=ax2,marker='x')\n",
    "ax.set_xticklabels(rotation=\"vertical\")\n",
    "ax.set_ylim([0,30])\n",
    "sns.set_style(\"darkgrid\")\n",
    "plt.title(\"Kenya Daily Cases & Test Conducted\")\n",
    "plt.show()"
   ]
  },
  {
   "cell_type": "code",
   "execution_count": 195,
   "metadata": {},
   "outputs": [],
   "source": [
    "fig,ax=plt.subplots(figsize=(12,6))\n",
    "ax2=ax.twinx()\n",
    "sns.lineplot(y='Daily_Confirmed_cases',x='Test Days',data=Kenya_x,ax=ax,marker='o',color='red')\n",
    "sns.lineplot(y='Count Sample Tests',x='Test Days',data=Kenya_x,ax=ax2,marker='x')\n",
    "ax.set_xticklabels(ax.get_xticklabels(),rotation=\"vertical\")\n",
    "ax.set_ylim([0,30])\n",
    "sns.set_style(\"darkgrid\")\n",
    "plt.title(\"Kenya Daily Cases & Test Conducted\")\n",
    "plt.show()"
   ]
  },
  {
   "cell_type": "code",
   "execution_count": 196,
   "metadata": {},
   "outputs": [],
   "source": [
    "fig,ax=plt.subplots(figsize=(12,6))\n",
    "ax2=ax.twinx()\n",
    "sns.lineplot(y='Daily_Confirmed_cases',x='Test Days',data=Kenya_x,ax=ax,marker='o',color='red')\n",
    "sns.lineplot(y='Count Sample Tests',x='Test Days',data=Kenya_x,ax=ax2,marker='x')\n",
    "ax.set_xticklabels(x.get_xticklabels(),rotation=\"vertical\")\n",
    "ax.set_ylim([0,30])\n",
    "sns.set_style(\"darkgrid\")\n",
    "plt.title(\"Kenya Daily Cases & Test Conducted\")\n",
    "plt.show()"
   ]
  },
  {
   "cell_type": "code",
   "execution_count": 197,
   "metadata": {},
   "outputs": [],
   "source": [
    "fig,ax=plt.subplots(figsize=(12,6))\n",
    "ax2=ax.twinx()\n",
    "a=sns.lineplot(y='Daily_Confirmed_cases',x='Test Days',data=Kenya_x,ax=ax,marker='o',color='red')\n",
    "sns.lineplot(y='Count Sample Tests',x='Test Days',data=Kenya_x,ax=ax2,marker='x')\n",
    "ax.set_xticklabels(a.get_xticklabels(),rotation=\"vertical\")\n",
    "ax.set_ylim([0,30])\n",
    "sns.set_style(\"darkgrid\")\n",
    "plt.title(\"Kenya Daily Cases & Test Conducted\")\n",
    "plt.show()"
   ]
  },
  {
   "cell_type": "code",
   "execution_count": 198,
   "metadata": {},
   "outputs": [],
   "source": [
    "fig,ax=plt.subplots(figsize=(12,6))\n",
    "ax2=ax.twinx()\n",
    "sns.lineplot(y='Daily_Confirmed_cases',x='Test Days',data=Kenya_x,ax=ax,marker='o',color='red')\n",
    "sns.lineplot(y='Count Sample Tests',x='Test Days',data=Kenya_x,ax=ax2,marker='x')\n",
    "ax.set_ylim([0,30])\n",
    "sns.set_style(\"darkgrid\")\n",
    "plt.title(\"Kenya Daily Cases & Test Conducted\")\n",
    "plt.show()"
   ]
  },
  {
   "cell_type": "code",
   "execution_count": 199,
   "metadata": {},
   "outputs": [],
   "source": [
    "#Setting up a working directory\n",
    "import os\n",
    "os.chdir(\"C:/Users/Lenovo/Desktop/Data Insight/Analysis\")\n",
    "#Saving the notebook\n",
    "%notebook \"C:/Users/Lenovo/Desktop/Data Insight/Analysis/Covid 19 Analysis.ipynb\""
   ]
  },
  {
   "cell_type": "code",
   "execution_count": 200,
   "metadata": {},
   "outputs": [],
   "source": [
    "#Importing the necessarily libraries to carry out the EDA\n",
    "import pandas as pd\n",
    "import numpy as np\n",
    "import matplotlib.pyplot as plt\n",
    "import seaborn as sns"
   ]
  },
  {
   "cell_type": "code",
   "execution_count": 201,
   "metadata": {},
   "outputs": [],
   "source": [
    "#Saving the raw data of the covid19 recovered cases & confirmed cases to their respective variables\n",
    "#This data is updated on a daily basis from data source as per the respective url's: https://github.com/CSSEGISandData/COVID-19/tree/master/csse_covid_19_data/csse_covid_19_time_series\n",
    "recovered_csv=\"https://raw.githubusercontent.com/CSSEGISandData/COVID-19/master/csse_covid_19_data/csse_covid_19_time_series/time_series_covid19_recovered_global.csv\"\n",
    "confirmed_csv=\"https://raw.githubusercontent.com/CSSEGISandData/COVID-19/master/csse_covid_19_data/csse_covid_19_time_series/time_series_covid19_confirmed_global.csv\""
   ]
  },
  {
   "cell_type": "code",
   "execution_count": 202,
   "metadata": {},
   "outputs": [],
   "source": [
    "#Reading in the data to dataframes\n",
    "recovered_timeseries_df=pd.read_csv(recovered_csv)\n",
    "confirmed_timeseries_df=pd.read_csv(confirmed_csv)"
   ]
  },
  {
   "cell_type": "code",
   "execution_count": 203,
   "metadata": {},
   "outputs": [],
   "source": [
    "#Inspecting the data sets\n",
    "recovered_timeseries_df.head()"
   ]
  },
  {
   "cell_type": "code",
   "execution_count": 204,
   "metadata": {},
   "outputs": [],
   "source": [
    "confirmed_timeseries_df.head()"
   ]
  },
  {
   "cell_type": "code",
   "execution_count": 205,
   "metadata": {},
   "outputs": [],
   "source": [
    "#Confirming that the column names in the two datasets are the same i.e the data structures are the same\n",
    "confirmed_timeseries_df.columns==recovered_timeseries_df.columns"
   ]
  },
  {
   "cell_type": "code",
   "execution_count": 206,
   "metadata": {},
   "outputs": [],
   "source": [
    "#Since the columns in the df's are the same we can come up with a function to massage the data\n",
    "#we shall drop columns Province/State,Lat,Long as we don't require it in our analysis\n",
    "def reshape_data(recovered_timeseries_df,confirmed_timeseries_df):\n",
    "    confirmed=confirmed_timeseries_df.melt(id_vars=['Province/State','Country/Region','Lat','Long'],var_name='Date',value_name='Confirmed_cases').drop(columns=['Province/State','Lat','Long'])\n",
    "    recovered=recovered_timeseries_df.melt(id_vars=['Province/State','Country/Region','Lat','Long'],var_name='Date',value_name='Recovered_cases').drop(columns=['Province/State','Lat','Long'])\n",
    "    confirmed['Date']=pd.to_datetime(confirmed['Date'])\n",
    "    recovered['Date']=pd.to_datetime(recovered['Date'])\n",
    "    recovered.set_index(\"Date\",inplace=True)\n",
    "    confirmed.set_index(\"Date\",inplace=True)\n",
    "    recovered.index = recovered.index.strftime('%d/%m/%Y')\n",
    "    confirmed.index = confirmed.index.strftime('%d/%m/%Y')\n",
    "        \n",
    "    return (confirmed,recovered)"
   ]
  },
  {
   "cell_type": "code",
   "execution_count": 207,
   "metadata": {},
   "outputs": [],
   "source": [
    "#Wrangling the raw data and unpacking the massaged data to new dataframes\n",
    "Confirmed_data,Recovered_data=reshape_data(recovered_timeseries_df,confirmed_timeseries_df)"
   ]
  },
  {
   "cell_type": "code",
   "execution_count": 208,
   "metadata": {},
   "outputs": [],
   "source": [
    "#Inspecting the unpacked data\n",
    "Confirmed_data.head()"
   ]
  },
  {
   "cell_type": "code",
   "execution_count": 209,
   "metadata": {},
   "outputs": [],
   "source": [
    "Recovered_data.head()"
   ]
  },
  {
   "cell_type": "code",
   "execution_count": 210,
   "metadata": {},
   "outputs": [],
   "source": [
    "Confirmed_data.info()"
   ]
  },
  {
   "cell_type": "code",
   "execution_count": 211,
   "metadata": {},
   "outputs": [],
   "source": [
    "Recovered_data.info()"
   ]
  },
  {
   "cell_type": "code",
   "execution_count": 212,
   "metadata": {},
   "outputs": [],
   "source": [
    "#Filtering the countries with a high number of confirmed cases registered for the month of April 2020\n",
    "High_Cases_Confirmed=Confirmed_data['01/04/2020':'30/04/2020'].groupby(\"Country/Region\").max().sort_values(by=\"Confirmed_cases\",ascending=False).head(5)"
   ]
  },
  {
   "cell_type": "code",
   "execution_count": 213,
   "metadata": {},
   "outputs": [],
   "source": [
    "High_Cases_Confirmed.index"
   ]
  },
  {
   "cell_type": "code",
   "execution_count": 214,
   "metadata": {},
   "outputs": [],
   "source": [
    "#Create list of the countries with the highest no of confirmed cases as at end of April\n",
    "Countries_List=High_Cases_Confirmed.index.to_list()"
   ]
  },
  {
   "cell_type": "code",
   "execution_count": 215,
   "metadata": {},
   "outputs": [],
   "source": [
    "Countries_List"
   ]
  },
  {
   "cell_type": "code",
   "execution_count": 216,
   "metadata": {},
   "outputs": [],
   "source": [
    "#Filtering the confirmed cases data with Countries list for the month of April 2020 & summing over Confirmed_cases for any cases  of duplicated Country/Region per day\n",
    "def April_data(data,count_column):\n",
    "    data1=data[data[\"Country/Region\"].isin (Countries_List)]\n",
    "    data1=data1['01/04/2020':'30/04/2020']\n",
    "    data1 = data1.groupby([data1.index,'Country/Region']).agg({count_column: 'sum'})\n",
    "    data1.reset_index(inplace=True)\n",
    "    data1.set_index('level_0',inplace=True)\n",
    "    data1.index.rename('Date',inplace=True)\n",
    "    return data1"
   ]
  },
  {
   "cell_type": "code",
   "execution_count": 217,
   "metadata": {},
   "outputs": [],
   "source": [
    "Highest_Cases_data=April_data(Confirmed_data,'Confirmed_cases')"
   ]
  },
  {
   "cell_type": "code",
   "execution_count": 218,
   "metadata": {},
   "outputs": [],
   "source": [
    "Highest_Cases_data.head()"
   ]
  },
  {
   "cell_type": "code",
   "execution_count": 219,
   "metadata": {},
   "outputs": [],
   "source": [
    "Highest_Recovery_data=April_data(Recovered_data,'Recovered_cases')"
   ]
  },
  {
   "cell_type": "code",
   "execution_count": 220,
   "metadata": {},
   "outputs": [],
   "source": [
    "Color=['Red','Blue','Green','Black','Purple']\n",
    "c=0\n",
    "fig,ax=plt.subplots(figsize=(14,9))\n",
    "for i in Countries_List:\n",
    "    a=Highest_Cases_data[Highest_Cases_data['Country/Region']==i]\n",
    "    ax.plot(a.index,a['Confirmed_cases'],color=Color[c])\n",
    "    c+=1\n",
    "ax.legend(Countries_List,loc='best')\n",
    "plt.xticks(rotation='vertical')\n",
    "ax=plt.gca()\n",
    "plt.title('Most Affected Countries ( Confirmed April Cases)')\n",
    "plt.xlabel(\"Date\")\n",
    "plt.ylabel(\"Confirmed Cases\")\n",
    "plt.show\n",
    "    "
   ]
  },
  {
   "cell_type": "code",
   "execution_count": 221,
   "metadata": {},
   "outputs": [],
   "source": [
    "#Filtering US cases\n",
    "US_cases=Highest_Cases_data[Highest_Cases_data['Country/Region']=='US']"
   ]
  },
  {
   "cell_type": "code",
   "execution_count": 222,
   "metadata": {},
   "outputs": [],
   "source": [
    "#US April cases plot\n",
    "fig,ax=plt.subplots(figsize=(15,5))\n",
    "ax.plot(US_cases.index,US_cases['Confirmed_cases'],color='blue',marker='s')\n",
    "plt.xticks(rotation='vertical')\n",
    "ax.set_ylim([0,1200000])\n",
    "plt.title('US Confirmed April Cases')\n",
    "plt.xlabel(\"Date\")\n",
    "plt.ylabel(\"Confirmed Cases\")\n",
    "plt.show"
   ]
  },
  {
   "cell_type": "code",
   "execution_count": 223,
   "metadata": {},
   "outputs": [],
   "source": [
    "#Subsetting the Countries_List data to exclude US\n",
    "Countries_List_2=Countries_List[1:]"
   ]
  },
  {
   "cell_type": "code",
   "execution_count": 224,
   "metadata": {},
   "outputs": [],
   "source": [
    "Countries_List_2"
   ]
  },
  {
   "cell_type": "code",
   "execution_count": 225,
   "metadata": {},
   "outputs": [],
   "source": [
    "#Plot\n",
    "Color=['Red','Green','Black','Purple']\n",
    "c=0\n",
    "fig,ax=plt.subplots(figsize=(15,5))\n",
    "for i in Countries_List_2:\n",
    "    a=Highest_Cases_data[Highest_Cases_data['Country/Region']==i]\n",
    "    ax.plot(a.index,a['Confirmed_cases'],color=Color[c])\n",
    "    c+=1\n",
    "ax.legend(Countries_List_2,loc='best')\n",
    "plt.xticks(rotation='vertical')\n",
    "ax=plt.gca()\n",
    "plt.title('Most Affected Countries Except US( Confirmed April Cases)')\n",
    "ax.set_ylim([0,250000])\n",
    "plt.xlabel(\"Date\")\n",
    "plt.ylabel(\"Confirmed Cases\")\n",
    "plt.show"
   ]
  },
  {
   "cell_type": "code",
   "execution_count": 226,
   "metadata": {},
   "outputs": [],
   "source": [
    "#Summing for values with duplicated region/Country\n",
    "Confirmed_data_April=Confirmed_data.groupby([Confirmed_data.index,'Country/Region']).agg({'Confirmed_cases': 'sum'})"
   ]
  },
  {
   "cell_type": "code",
   "execution_count": 227,
   "metadata": {},
   "outputs": [],
   "source": [
    "Confirmed_data_April=Confirmed_data_April.loc['01/04/2020':'30/04/2020']"
   ]
  },
  {
   "cell_type": "code",
   "execution_count": 228,
   "metadata": {},
   "outputs": [],
   "source": [
    "Confirmed_Country_Max = Confirmed_data_April.groupby(['Country/Region']).max()"
   ]
  },
  {
   "cell_type": "code",
   "execution_count": 229,
   "metadata": {},
   "outputs": [],
   "source": [
    "Confirmed_Country_Max.reset_index(inplace=True)"
   ]
  },
  {
   "cell_type": "code",
   "execution_count": 230,
   "metadata": {},
   "outputs": [],
   "source": [
    "Confirmed_Country_Max.head()"
   ]
  },
  {
   "cell_type": "code",
   "execution_count": 231,
   "metadata": {},
   "outputs": [],
   "source": [
    "#Summing for values with duplicated region/Country\n",
    "Recovered_data_April = Recovered_data.groupby([Recovered_data.index,'Country/Region']).agg({'Recovered_cases': 'sum'})"
   ]
  },
  {
   "cell_type": "code",
   "execution_count": 232,
   "metadata": {},
   "outputs": [],
   "source": [
    "Recovered_data_April=Recovered_data_April.loc['01/04/2020':'30/04/2020']"
   ]
  },
  {
   "cell_type": "code",
   "execution_count": 233,
   "metadata": {},
   "outputs": [],
   "source": [
    "#Getting the maximum recovery cases\n",
    "Recovered_Country_Max = Recovered_data_April.groupby(['Country/Region']).max()"
   ]
  },
  {
   "cell_type": "code",
   "execution_count": 234,
   "metadata": {},
   "outputs": [],
   "source": [
    "Recovered_Country_Max.reset_index(inplace=True)"
   ]
  },
  {
   "cell_type": "code",
   "execution_count": 235,
   "metadata": {},
   "outputs": [],
   "source": [
    "Recovered_Country_Max.head()"
   ]
  },
  {
   "cell_type": "code",
   "execution_count": 236,
   "metadata": {},
   "outputs": [],
   "source": [
    "Confirmed_Recovered_data=Confirmed_Country_Max"
   ]
  },
  {
   "cell_type": "code",
   "execution_count": 237,
   "metadata": {},
   "outputs": [],
   "source": [
    "#Adding a Recovered_cases column to create a new dataframe\n",
    "Confirmed_Recovered_data['Recovered_cases']=Recovered_Country_Max['Recovered_cases']"
   ]
  },
  {
   "cell_type": "code",
   "execution_count": 238,
   "metadata": {},
   "outputs": [],
   "source": [
    "Confirmed_Recovered_data.head()"
   ]
  },
  {
   "cell_type": "code",
   "execution_count": 239,
   "metadata": {},
   "outputs": [],
   "source": [
    "#Getting the recovery rates per country column"
   ]
  },
  {
   "cell_type": "code",
   "execution_count": 240,
   "metadata": {},
   "outputs": [],
   "source": [
    "Confirmed_Recovered_data['Recovery rate']=Confirmed_Recovered_data['Recovered_cases']/Confirmed_Recovered_data['Confirmed_cases']"
   ]
  },
  {
   "cell_type": "code",
   "execution_count": 241,
   "metadata": {},
   "outputs": [],
   "source": [
    "Confirmed_Recovered_data.head()"
   ]
  },
  {
   "cell_type": "code",
   "execution_count": 242,
   "metadata": {},
   "outputs": [],
   "source": [
    "Countries_Most_Affected=Confirmed_Recovered_data.groupby(\"Country/Region\").max().sort_values(by=\"Confirmed_cases\",ascending=False).head(8)"
   ]
  },
  {
   "cell_type": "code",
   "execution_count": 243,
   "metadata": {},
   "outputs": [],
   "source": [
    "Countries_Most_Affected.reset_index(inplace=True)"
   ]
  },
  {
   "cell_type": "code",
   "execution_count": 244,
   "metadata": {},
   "outputs": [],
   "source": [
    "Countries_Most_Affected.head()"
   ]
  },
  {
   "cell_type": "code",
   "execution_count": 245,
   "metadata": {},
   "outputs": [],
   "source": [
    "sns.barplot(x='Country/Region',y='Recovery rate',data=Countries_Most_Affected,order=['United Kingdom','Russia','US','France','Brazil','Italy','Spain','Germany'])\n",
    "plt.xticks(rotation='vertical')\n",
    "plt.title(\"Recovery Rates for Countries Most Affected\")"
   ]
  },
  {
   "cell_type": "code",
   "execution_count": 246,
   "metadata": {},
   "outputs": [],
   "source": [
    "#Subseting the Kenyan data\n",
    "Kenyan_Confirmed=Confirmed_data[Confirmed_data['Country/Region']=='Kenya']"
   ]
  },
  {
   "cell_type": "code",
   "execution_count": 247,
   "metadata": {},
   "outputs": [],
   "source": [
    "Kenyan_Confirmed=Kenyan_Confirmed['01/04/2020':'30/04/2020']"
   ]
  },
  {
   "cell_type": "code",
   "execution_count": 248,
   "metadata": {},
   "outputs": [],
   "source": [
    "Kenyan_Confirmed.head()"
   ]
  },
  {
   "cell_type": "code",
   "execution_count": 249,
   "metadata": {},
   "outputs": [],
   "source": [
    "Kenyan_Confirmed.reset_index(inplace=True)"
   ]
  },
  {
   "cell_type": "code",
   "execution_count": 250,
   "metadata": {},
   "outputs": [],
   "source": [
    "Kenyan_Confirmed.head()"
   ]
  },
  {
   "cell_type": "code",
   "execution_count": 251,
   "metadata": {},
   "outputs": [],
   "source": [
    "Kenyan_Confirmed.rename(columns={'index':'Day'},inplace=True)"
   ]
  },
  {
   "cell_type": "code",
   "execution_count": 252,
   "metadata": {},
   "outputs": [],
   "source": [
    "Kenyan_Confirmed.head()"
   ]
  },
  {
   "cell_type": "code",
   "execution_count": 253,
   "metadata": {},
   "outputs": [],
   "source": [
    "#Plot of confirmed cases over_time"
   ]
  },
  {
   "cell_type": "code",
   "execution_count": 254,
   "metadata": {},
   "outputs": [],
   "source": [
    "fig,ax=plt.subplots(figsize=(15,5))\n",
    "sns.lineplot(y='Confirmed_cases',x='Day',ax=ax,data=Kenyan_Confirmed,marker='s')\n",
    "plt.xticks(rotation=\"vertical\")\n",
    "ax.set_ylim([0,450])\n",
    "sns.set_style(\"darkgrid\")\n",
    "plt.title(\"Total Confirmed Cases\")\n",
    "plt.show()"
   ]
  },
  {
   "cell_type": "code",
   "execution_count": 255,
   "metadata": {},
   "outputs": [],
   "source": [
    "Kenyan_Confirmed['Daily_Confirmed_cases']=Kenyan_Confirmed['Confirmed_cases'].diff()"
   ]
  },
  {
   "cell_type": "code",
   "execution_count": 256,
   "metadata": {},
   "outputs": [],
   "source": [
    "Kenyan_Confirmed.head()"
   ]
  },
  {
   "cell_type": "code",
   "execution_count": 257,
   "metadata": {},
   "outputs": [],
   "source": [
    "#Dropping the first day\n",
    "Kenyan_Daily_Confirmed=Kenyan_Confirmed.dropna(axis=0)"
   ]
  },
  {
   "cell_type": "code",
   "execution_count": 258,
   "metadata": {},
   "outputs": [],
   "source": [
    "Kenyan_Daily_Confirmed.head()"
   ]
  },
  {
   "cell_type": "code",
   "execution_count": 259,
   "metadata": {},
   "outputs": [],
   "source": [
    "fig,ax=plt.subplots(figsize=(15,5))\n",
    "sns.lineplot(y='Daily_Confirmed_cases',x='Day',data=Kenyan_Daily_Confirmed,marker='o')\n",
    "plt.xticks(rotation=\"vertical\")\n",
    "ax.set_ylim([0,30])\n",
    "sns.set_style(\"darkgrid\")\n",
    "plt.title(\"April-Kenya Daily Cases\")\n",
    "plt.show()"
   ]
  },
  {
   "cell_type": "code",
   "execution_count": 260,
   "metadata": {},
   "outputs": [],
   "source": [
    "#Kenya testing data scrapped from daily press briefings by the Ministry of Health Kenya"
   ]
  },
  {
   "cell_type": "code",
   "execution_count": 261,
   "metadata": {},
   "outputs": [],
   "source": [
    "Dates=Kenyan_Confirmed['Day'].to_list()"
   ]
  },
  {
   "cell_type": "code",
   "execution_count": 262,
   "metadata": {},
   "outputs": [],
   "source": [
    "#Converting the dates to a list\n",
    "#It is worth noting that some days had missing information of test data thus we shall drop those days"
   ]
  },
  {
   "cell_type": "code",
   "execution_count": 263,
   "metadata": {},
   "outputs": [],
   "source": [
    "#Dropping days with missing test data"
   ]
  },
  {
   "cell_type": "code",
   "execution_count": 264,
   "metadata": {},
   "outputs": [],
   "source": [
    "Dates=Dates[1:]"
   ]
  },
  {
   "cell_type": "code",
   "execution_count": 265,
   "metadata": {},
   "outputs": [],
   "source": [
    "Test_Missing=['06/04/2020','08/04/2020','16/04/2020','17/04/2020','20/04/2020','25/04/2020','26/04/2020','27/04/2020','28/04/2020']\n",
    "Test_Dates=[item for item in Dates if item not in Test_Missing]"
   ]
  },
  {
   "cell_type": "code",
   "execution_count": 266,
   "metadata": {},
   "outputs": [],
   "source": [
    "Kenyan_tested=[662,362,372,530,696,308,504,491,766,674,694,803,1115,1330,545,707,668,946,508,777]"
   ]
  },
  {
   "cell_type": "code",
   "execution_count": 267,
   "metadata": {},
   "outputs": [],
   "source": [
    "d={'Test Days':Test_Dates,'Count Sample Tests':Kenyan_tested}"
   ]
  },
  {
   "cell_type": "code",
   "execution_count": 268,
   "metadata": {},
   "outputs": [],
   "source": [
    "df_Tests=pd.DataFrame(d)"
   ]
  },
  {
   "cell_type": "code",
   "execution_count": 269,
   "metadata": {},
   "outputs": [],
   "source": [
    "df_Tests"
   ]
  },
  {
   "cell_type": "code",
   "execution_count": 270,
   "metadata": {},
   "outputs": [],
   "source": [
    "#Visualizing the same"
   ]
  },
  {
   "cell_type": "code",
   "execution_count": 271,
   "metadata": {},
   "outputs": [],
   "source": [
    "fig,ax=plt.subplots(figsize=(12,5))\n",
    "sns.barplot(y='Count Sample Tests',x='Test Days',data=df_Tests,color='b')\n",
    "plt.xticks(rotation=\"vertical\")\n",
    "sns.set_style(\"darkgrid\")\n",
    "plt.title(\"Daily Test Cases\")\n",
    "plt.show()"
   ]
  },
  {
   "cell_type": "code",
   "execution_count": 272,
   "metadata": {},
   "outputs": [],
   "source": [
    "Kenya_x=Kenyan_Confirmed.set_index('Day')\n",
    "Kenya_x=Kenya_x.drop(['01/04/2020','06/04/2020','08/04/2020','16/04/2020','17/04/2020','20/04/2020','25/04/2020','26/04/2020','27/04/2020','28/04/2020'])\n",
    "Kenya_x.reset_index(inplace=True)\n",
    "Kenya_x=Kenya_x.rename(columns={'Day':'Test Days'})\n",
    "Kenya_x=pd.merge(df_Tests,Kenya_x,on='Test Days')\n",
    "Kenya_x.head()"
   ]
  },
  {
   "cell_type": "code",
   "execution_count": 273,
   "metadata": {},
   "outputs": [],
   "source": [
    "fig,ax=plt.subplots(figsize=(12,6))\n",
    "ax2=ax.twinx()\n",
    "sns.lineplot(y='Daily_Confirmed_cases',x='Test Days',data=Kenya_x,ax=ax,marker='o',color='red')\n",
    "sns.lineplot(y='Count Sample Tests',x='Test Days',data=Kenya_x,ax=ax2,marker='x')\n",
    "ax.set_ylim([0,30])\n",
    "sns.set_style(\"darkgrid\")\n",
    "plt.title(\"Kenya Daily Cases & Test Conducted\")\n",
    "plt.show()"
   ]
  },
  {
   "cell_type": "code",
   "execution_count": 274,
   "metadata": {},
   "outputs": [],
   "source": [
    "#Setting up a working directory\n",
    "import os\n",
    "os.chdir(\"C:/Users/Lenovo/Desktop/Data Insight/Analysis\")\n",
    "#Saving the notebook\n",
    "%notebook \"C:/Users/Lenovo/Desktop/Data Insight/Analysis/Covid 19 Analysis.ipynb\""
   ]
  },
  {
   "cell_type": "code",
   "execution_count": 275,
   "metadata": {},
   "outputs": [],
   "source": [
    "#Importing the necessarily libraries to carry out the EDA\n",
    "import pandas as pd\n",
    "import numpy as np\n",
    "import matplotlib.pyplot as plt\n",
    "import seaborn as sns"
   ]
  },
  {
   "cell_type": "code",
   "execution_count": 276,
   "metadata": {},
   "outputs": [],
   "source": [
    "#Saving the raw data of the covid19 recovered cases & confirmed cases to their respective variables\n",
    "#This data is updated on a daily basis from data source as per the respective url's: https://github.com/CSSEGISandData/COVID-19/tree/master/csse_covid_19_data/csse_covid_19_time_series\n",
    "recovered_csv=\"https://raw.githubusercontent.com/CSSEGISandData/COVID-19/master/csse_covid_19_data/csse_covid_19_time_series/time_series_covid19_recovered_global.csv\"\n",
    "confirmed_csv=\"https://raw.githubusercontent.com/CSSEGISandData/COVID-19/master/csse_covid_19_data/csse_covid_19_time_series/time_series_covid19_confirmed_global.csv\""
   ]
  },
  {
   "cell_type": "code",
   "execution_count": 277,
   "metadata": {},
   "outputs": [],
   "source": [
    "#Reading in the data to dataframes\n",
    "recovered_timeseries_df=pd.read_csv(recovered_csv)\n",
    "confirmed_timeseries_df=pd.read_csv(confirmed_csv)"
   ]
  },
  {
   "cell_type": "code",
   "execution_count": 278,
   "metadata": {},
   "outputs": [],
   "source": [
    "#Inspecting the data sets\n",
    "recovered_timeseries_df.head()"
   ]
  },
  {
   "cell_type": "code",
   "execution_count": 279,
   "metadata": {},
   "outputs": [],
   "source": [
    "confirmed_timeseries_df.head()"
   ]
  },
  {
   "cell_type": "code",
   "execution_count": 280,
   "metadata": {},
   "outputs": [],
   "source": [
    "#Confirming that the column names in the two datasets are the same i.e the data structures are the same\n",
    "confirmed_timeseries_df.columns==recovered_timeseries_df.columns"
   ]
  },
  {
   "cell_type": "code",
   "execution_count": 281,
   "metadata": {},
   "outputs": [],
   "source": [
    "#Since the columns in the df's are the same we can come up with a function to massage the data\n",
    "#we shall drop columns Province/State,Lat,Long as we don't require it in our analysis\n",
    "def reshape_data(recovered_timeseries_df,confirmed_timeseries_df):\n",
    "    confirmed=confirmed_timeseries_df.melt(id_vars=['Province/State','Country/Region','Lat','Long'],var_name='Date',value_name='Confirmed_cases').drop(columns=['Province/State','Lat','Long'])\n",
    "    recovered=recovered_timeseries_df.melt(id_vars=['Province/State','Country/Region','Lat','Long'],var_name='Date',value_name='Recovered_cases').drop(columns=['Province/State','Lat','Long'])\n",
    "    confirmed['Date']=pd.to_datetime(confirmed['Date'])\n",
    "    recovered['Date']=pd.to_datetime(recovered['Date'])\n",
    "    recovered.set_index(\"Date\",inplace=True)\n",
    "    confirmed.set_index(\"Date\",inplace=True)\n",
    "    recovered.index = recovered.index.strftime('%d/%m/%Y')\n",
    "    confirmed.index = confirmed.index.strftime('%d/%m/%Y')\n",
    "        \n",
    "    return (confirmed,recovered)"
   ]
  },
  {
   "cell_type": "code",
   "execution_count": 282,
   "metadata": {},
   "outputs": [],
   "source": [
    "#Wrangling the raw data and unpacking the massaged data to new dataframes\n",
    "Confirmed_data,Recovered_data=reshape_data(recovered_timeseries_df,confirmed_timeseries_df)"
   ]
  },
  {
   "cell_type": "code",
   "execution_count": 283,
   "metadata": {},
   "outputs": [],
   "source": [
    "#Inspecting the unpacked data\n",
    "Confirmed_data.head()"
   ]
  },
  {
   "cell_type": "code",
   "execution_count": 284,
   "metadata": {},
   "outputs": [],
   "source": [
    "Recovered_data.head()"
   ]
  },
  {
   "cell_type": "code",
   "execution_count": 285,
   "metadata": {},
   "outputs": [],
   "source": [
    "Confirmed_data.info()"
   ]
  },
  {
   "cell_type": "code",
   "execution_count": 286,
   "metadata": {},
   "outputs": [],
   "source": [
    "Recovered_data.info()"
   ]
  },
  {
   "cell_type": "code",
   "execution_count": 287,
   "metadata": {},
   "outputs": [],
   "source": [
    "#Filtering the countries with a high number of confirmed cases registered for the month of April 2020\n",
    "High_Cases_Confirmed=Confirmed_data['01/04/2020':'30/04/2020'].groupby(\"Country/Region\").max().sort_values(by=\"Confirmed_cases\",ascending=False).head(5)"
   ]
  },
  {
   "cell_type": "code",
   "execution_count": 288,
   "metadata": {},
   "outputs": [],
   "source": [
    "High_Cases_Confirmed.index"
   ]
  },
  {
   "cell_type": "code",
   "execution_count": 289,
   "metadata": {},
   "outputs": [],
   "source": [
    "#Create list of the countries with the highest no of confirmed cases as at end of April\n",
    "Countries_List=High_Cases_Confirmed.index.to_list()"
   ]
  },
  {
   "cell_type": "code",
   "execution_count": 290,
   "metadata": {},
   "outputs": [],
   "source": [
    "Countries_List"
   ]
  },
  {
   "cell_type": "code",
   "execution_count": 291,
   "metadata": {},
   "outputs": [],
   "source": [
    "#Filtering the confirmed cases data with Countries list for the month of April 2020 & summing over Confirmed_cases for any cases  of duplicated Country/Region per day\n",
    "def April_data(data,count_column):\n",
    "    data1=data[data[\"Country/Region\"].isin (Countries_List)]\n",
    "    data1=data1['01/04/2020':'30/04/2020']\n",
    "    data1 = data1.groupby([data1.index,'Country/Region']).agg({count_column: 'sum'})\n",
    "    data1.reset_index(inplace=True)\n",
    "    data1.set_index('level_0',inplace=True)\n",
    "    data1.index.rename('Date',inplace=True)\n",
    "    return data1"
   ]
  },
  {
   "cell_type": "code",
   "execution_count": 292,
   "metadata": {},
   "outputs": [],
   "source": [
    "Highest_Cases_data=April_data(Confirmed_data,'Confirmed_cases')"
   ]
  },
  {
   "cell_type": "code",
   "execution_count": 293,
   "metadata": {},
   "outputs": [],
   "source": [
    "Highest_Cases_data.head()"
   ]
  },
  {
   "cell_type": "code",
   "execution_count": 294,
   "metadata": {},
   "outputs": [],
   "source": [
    "Highest_Recovery_data=April_data(Recovered_data,'Recovered_cases')"
   ]
  },
  {
   "cell_type": "code",
   "execution_count": 295,
   "metadata": {},
   "outputs": [],
   "source": [
    "Color=['Red','Blue','Green','Black','Purple']\n",
    "c=0\n",
    "fig,ax=plt.subplots(figsize=(14,9))\n",
    "for i in Countries_List:\n",
    "    a=Highest_Cases_data[Highest_Cases_data['Country/Region']==i]\n",
    "    ax.plot(a.index,a['Confirmed_cases'],color=Color[c])\n",
    "    c+=1\n",
    "ax.legend(Countries_List,loc='best')\n",
    "plt.xticks(rotation='vertical')\n",
    "ax=plt.gca()\n",
    "plt.title('Most Affected Countries ( Confirmed April Cases)')\n",
    "plt.xlabel(\"Date\")\n",
    "plt.ylabel(\"Confirmed Cases\")\n",
    "plt.show\n",
    "    "
   ]
  },
  {
   "cell_type": "code",
   "execution_count": 296,
   "metadata": {},
   "outputs": [],
   "source": [
    "#Filtering US cases\n",
    "US_cases=Highest_Cases_data[Highest_Cases_data['Country/Region']=='US']"
   ]
  },
  {
   "cell_type": "code",
   "execution_count": 297,
   "metadata": {},
   "outputs": [],
   "source": [
    "#US April cases plot\n",
    "fig,ax=plt.subplots(figsize=(15,5))\n",
    "ax.plot(US_cases.index,US_cases['Confirmed_cases'],color='blue',marker='s')\n",
    "plt.xticks(rotation='vertical')\n",
    "ax.set_ylim([0,1200000])\n",
    "plt.title('US Confirmed April Cases')\n",
    "plt.xlabel(\"Date\")\n",
    "plt.ylabel(\"Confirmed Cases\")\n",
    "plt.show"
   ]
  },
  {
   "cell_type": "code",
   "execution_count": 298,
   "metadata": {},
   "outputs": [],
   "source": [
    "#Subsetting the Countries_List data to exclude US\n",
    "Countries_List_2=Countries_List[1:]"
   ]
  },
  {
   "cell_type": "code",
   "execution_count": 299,
   "metadata": {},
   "outputs": [],
   "source": [
    "Countries_List_2"
   ]
  },
  {
   "cell_type": "code",
   "execution_count": 300,
   "metadata": {},
   "outputs": [],
   "source": [
    "#Plot\n",
    "Color=['Red','Green','Black','Purple']\n",
    "c=0\n",
    "fig,ax=plt.subplots(figsize=(15,5))\n",
    "for i in Countries_List_2:\n",
    "    a=Highest_Cases_data[Highest_Cases_data['Country/Region']==i]\n",
    "    ax.plot(a.index,a['Confirmed_cases'],color=Color[c])\n",
    "    c+=1\n",
    "ax.legend(Countries_List_2,loc='best')\n",
    "plt.xticks(rotation='vertical')\n",
    "ax=plt.gca()\n",
    "plt.title('Most Affected Countries Except US( Confirmed April Cases)')\n",
    "ax.set_ylim([0,250000])\n",
    "plt.xlabel(\"Date\")\n",
    "plt.ylabel(\"Confirmed Cases\")\n",
    "plt.show"
   ]
  },
  {
   "cell_type": "code",
   "execution_count": 301,
   "metadata": {},
   "outputs": [],
   "source": [
    "#Summing for values with duplicated region/Country\n",
    "Confirmed_data_April=Confirmed_data.groupby([Confirmed_data.index,'Country/Region']).agg({'Confirmed_cases': 'sum'})"
   ]
  },
  {
   "cell_type": "code",
   "execution_count": 302,
   "metadata": {},
   "outputs": [],
   "source": [
    "Confirmed_data_April=Confirmed_data_April.loc['01/04/2020':'30/04/2020']"
   ]
  },
  {
   "cell_type": "code",
   "execution_count": 303,
   "metadata": {},
   "outputs": [],
   "source": [
    "Confirmed_Country_Max = Confirmed_data_April.groupby(['Country/Region']).max()"
   ]
  },
  {
   "cell_type": "code",
   "execution_count": 304,
   "metadata": {},
   "outputs": [],
   "source": [
    "Confirmed_Country_Max.reset_index(inplace=True)"
   ]
  },
  {
   "cell_type": "code",
   "execution_count": 305,
   "metadata": {},
   "outputs": [],
   "source": [
    "Confirmed_Country_Max.head()"
   ]
  },
  {
   "cell_type": "code",
   "execution_count": 306,
   "metadata": {},
   "outputs": [],
   "source": [
    "#Summing for values with duplicated region/Country\n",
    "Recovered_data_April = Recovered_data.groupby([Recovered_data.index,'Country/Region']).agg({'Recovered_cases': 'sum'})"
   ]
  },
  {
   "cell_type": "code",
   "execution_count": 307,
   "metadata": {},
   "outputs": [],
   "source": [
    "Recovered_data_April=Recovered_data_April.loc['01/04/2020':'30/04/2020']"
   ]
  },
  {
   "cell_type": "code",
   "execution_count": 308,
   "metadata": {},
   "outputs": [],
   "source": [
    "#Getting the maximum recovery cases\n",
    "Recovered_Country_Max = Recovered_data_April.groupby(['Country/Region']).max()"
   ]
  },
  {
   "cell_type": "code",
   "execution_count": 309,
   "metadata": {},
   "outputs": [],
   "source": [
    "Recovered_Country_Max.reset_index(inplace=True)"
   ]
  },
  {
   "cell_type": "code",
   "execution_count": 310,
   "metadata": {},
   "outputs": [],
   "source": [
    "Recovered_Country_Max.head()"
   ]
  },
  {
   "cell_type": "code",
   "execution_count": 311,
   "metadata": {},
   "outputs": [],
   "source": [
    "Confirmed_Recovered_data=Confirmed_Country_Max"
   ]
  },
  {
   "cell_type": "code",
   "execution_count": 312,
   "metadata": {},
   "outputs": [],
   "source": [
    "#Adding a Recovered_cases column to create a new dataframe\n",
    "Confirmed_Recovered_data['Recovered_cases']=Recovered_Country_Max['Recovered_cases']"
   ]
  },
  {
   "cell_type": "code",
   "execution_count": 313,
   "metadata": {},
   "outputs": [],
   "source": [
    "Confirmed_Recovered_data.head()"
   ]
  },
  {
   "cell_type": "code",
   "execution_count": 314,
   "metadata": {},
   "outputs": [],
   "source": [
    "#Getting the recovery rates per country column"
   ]
  },
  {
   "cell_type": "code",
   "execution_count": 315,
   "metadata": {},
   "outputs": [],
   "source": [
    "Confirmed_Recovered_data['Recovery rate']=Confirmed_Recovered_data['Recovered_cases']/Confirmed_Recovered_data['Confirmed_cases']"
   ]
  },
  {
   "cell_type": "code",
   "execution_count": 316,
   "metadata": {},
   "outputs": [],
   "source": [
    "Confirmed_Recovered_data.head()"
   ]
  },
  {
   "cell_type": "code",
   "execution_count": 317,
   "metadata": {},
   "outputs": [],
   "source": [
    "Countries_Most_Affected=Confirmed_Recovered_data.groupby(\"Country/Region\").max().sort_values(by=\"Confirmed_cases\",ascending=False).head(8)"
   ]
  },
  {
   "cell_type": "code",
   "execution_count": 318,
   "metadata": {},
   "outputs": [],
   "source": [
    "Countries_Most_Affected.reset_index(inplace=True)"
   ]
  },
  {
   "cell_type": "code",
   "execution_count": 319,
   "metadata": {},
   "outputs": [],
   "source": [
    "Countries_Most_Affected.head()"
   ]
  },
  {
   "cell_type": "code",
   "execution_count": 320,
   "metadata": {},
   "outputs": [],
   "source": [
    "sns.barplot(x='Country/Region',y='Recovery rate',data=Countries_Most_Affected,order=['United Kingdom','Russia','US','France','Brazil','Italy','Spain','Germany'])\n",
    "plt.xticks(rotation='vertical')\n",
    "plt.title(\"Recovery Rates for Countries Most Affected\")"
   ]
  },
  {
   "cell_type": "code",
   "execution_count": 321,
   "metadata": {},
   "outputs": [],
   "source": [
    "#Subseting the Kenyan data\n",
    "Kenyan_Confirmed=Confirmed_data[Confirmed_data['Country/Region']=='Kenya']"
   ]
  },
  {
   "cell_type": "code",
   "execution_count": 322,
   "metadata": {},
   "outputs": [],
   "source": [
    "Kenyan_Confirmed=Kenyan_Confirmed['01/04/2020':'30/04/2020']"
   ]
  },
  {
   "cell_type": "code",
   "execution_count": 323,
   "metadata": {},
   "outputs": [],
   "source": [
    "Kenyan_Confirmed.head()"
   ]
  },
  {
   "cell_type": "code",
   "execution_count": 324,
   "metadata": {},
   "outputs": [],
   "source": [
    "Kenyan_Confirmed.reset_index(inplace=True)"
   ]
  },
  {
   "cell_type": "code",
   "execution_count": 325,
   "metadata": {},
   "outputs": [],
   "source": [
    "Kenyan_Confirmed.head()"
   ]
  },
  {
   "cell_type": "code",
   "execution_count": 326,
   "metadata": {},
   "outputs": [],
   "source": [
    "Kenyan_Confirmed.rename(columns={'index':'Day'},inplace=True)"
   ]
  },
  {
   "cell_type": "code",
   "execution_count": 327,
   "metadata": {},
   "outputs": [],
   "source": [
    "Kenyan_Confirmed.head()"
   ]
  },
  {
   "cell_type": "code",
   "execution_count": 328,
   "metadata": {},
   "outputs": [],
   "source": [
    "#Plot of confirmed cases over_time"
   ]
  },
  {
   "cell_type": "code",
   "execution_count": 329,
   "metadata": {},
   "outputs": [],
   "source": [
    "fig,ax=plt.subplots(figsize=(15,5))\n",
    "sns.lineplot(y='Confirmed_cases',x='Day',ax=ax,data=Kenyan_Confirmed,marker='s')\n",
    "plt.xticks(rotation=\"vertical\")\n",
    "ax.set_ylim([0,450])\n",
    "sns.set_style(\"darkgrid\")\n",
    "plt.title(\"Total Confirmed Cases\")\n",
    "plt.show()"
   ]
  },
  {
   "cell_type": "code",
   "execution_count": 330,
   "metadata": {},
   "outputs": [],
   "source": [
    "Kenyan_Confirmed['Daily_Confirmed_cases']=Kenyan_Confirmed['Confirmed_cases'].diff()"
   ]
  },
  {
   "cell_type": "code",
   "execution_count": 331,
   "metadata": {},
   "outputs": [],
   "source": [
    "Kenyan_Confirmed.head()"
   ]
  },
  {
   "cell_type": "code",
   "execution_count": 332,
   "metadata": {},
   "outputs": [],
   "source": [
    "#Dropping the first day\n",
    "Kenyan_Daily_Confirmed=Kenyan_Confirmed.dropna(axis=0)"
   ]
  },
  {
   "cell_type": "code",
   "execution_count": 333,
   "metadata": {},
   "outputs": [],
   "source": [
    "Kenyan_Daily_Confirmed.head()"
   ]
  },
  {
   "cell_type": "code",
   "execution_count": 334,
   "metadata": {},
   "outputs": [],
   "source": [
    "fig,ax=plt.subplots(figsize=(15,5))\n",
    "sns.lineplot(y='Daily_Confirmed_cases',x='Day',data=Kenyan_Daily_Confirmed,marker='o')\n",
    "plt.xticks(rotation=\"vertical\")\n",
    "ax.set_ylim([0,30])\n",
    "sns.set_style(\"darkgrid\")\n",
    "plt.title(\"April-Kenya Daily Cases\")\n",
    "plt.show()"
   ]
  },
  {
   "cell_type": "code",
   "execution_count": 335,
   "metadata": {},
   "outputs": [],
   "source": [
    "#Kenya testing data scrapped from daily press briefings by the Ministry of Health Kenya"
   ]
  },
  {
   "cell_type": "code",
   "execution_count": 336,
   "metadata": {},
   "outputs": [],
   "source": [
    "Dates=Kenyan_Confirmed['Day'].to_list()"
   ]
  },
  {
   "cell_type": "code",
   "execution_count": 337,
   "metadata": {},
   "outputs": [],
   "source": [
    "#Converting the dates to a list\n",
    "#It is worth noting that some days had missing information of test data thus we shall drop those days"
   ]
  },
  {
   "cell_type": "code",
   "execution_count": 338,
   "metadata": {},
   "outputs": [],
   "source": [
    "#Dropping days with missing test data"
   ]
  },
  {
   "cell_type": "code",
   "execution_count": 339,
   "metadata": {},
   "outputs": [],
   "source": [
    "Dates=Dates[1:]"
   ]
  },
  {
   "cell_type": "code",
   "execution_count": 340,
   "metadata": {},
   "outputs": [],
   "source": [
    "Test_Missing=['06/04/2020','08/04/2020','16/04/2020','17/04/2020','20/04/2020','25/04/2020','26/04/2020','27/04/2020','28/04/2020']\n",
    "Test_Dates=[item for item in Dates if item not in Test_Missing]"
   ]
  },
  {
   "cell_type": "code",
   "execution_count": 341,
   "metadata": {},
   "outputs": [],
   "source": [
    "Kenyan_tested=[662,362,372,530,696,308,504,491,766,674,694,803,1115,1330,545,707,668,946,508,777]"
   ]
  },
  {
   "cell_type": "code",
   "execution_count": 342,
   "metadata": {},
   "outputs": [],
   "source": [
    "d={'Test Days':Test_Dates,'Count Sample Tests':Kenyan_tested}"
   ]
  },
  {
   "cell_type": "code",
   "execution_count": 343,
   "metadata": {},
   "outputs": [],
   "source": [
    "df_Tests=pd.DataFrame(d)"
   ]
  },
  {
   "cell_type": "code",
   "execution_count": 344,
   "metadata": {},
   "outputs": [],
   "source": [
    "df_Tests"
   ]
  },
  {
   "cell_type": "code",
   "execution_count": 345,
   "metadata": {},
   "outputs": [],
   "source": [
    "#Visualizing the same"
   ]
  },
  {
   "cell_type": "code",
   "execution_count": 346,
   "metadata": {},
   "outputs": [],
   "source": [
    "fig,ax=plt.subplots(figsize=(12,5))\n",
    "sns.barplot(y='Count Sample Tests',x='Test Days',data=df_Tests,color='b')\n",
    "plt.xticks(rotation=\"vertical\")\n",
    "sns.set_style(\"darkgrid\")\n",
    "plt.title(\"Daily Test Cases\")\n",
    "plt.show()"
   ]
  },
  {
   "cell_type": "code",
   "execution_count": 347,
   "metadata": {},
   "outputs": [],
   "source": [
    "Kenya_x=Kenyan_Confirmed.set_index('Day')\n",
    "Kenya_x=Kenya_x.drop(['01/04/2020','06/04/2020','08/04/2020','16/04/2020','17/04/2020','20/04/2020','25/04/2020','26/04/2020','27/04/2020','28/04/2020'])\n",
    "Kenya_x.reset_index(inplace=True)\n",
    "Kenya_x=Kenya_x.rename(columns={'Day':'Test Days'})\n",
    "Kenya_x=pd.merge(df_Tests,Kenya_x,on='Test Days')\n",
    "Kenya_x.head()"
   ]
  },
  {
   "cell_type": "code",
   "execution_count": 348,
   "metadata": {},
   "outputs": [],
   "source": [
    "fig,ax=plt.subplots(figsize=(12,6))\n",
    "ax2=ax.twinx()\n",
    "sns.lineplot(y='Daily_Confirmed_cases',x='Test Days',data=Kenya_x,ax=ax,marker='o',color='red')\n",
    "sns.lineplot(y='Count Sample Tests',x='Test Days',data=Kenya_x,ax=ax2,marker='x')\n",
    "ax.set_ylim([0,30])\n",
    "sns.set_style(\"darkgrid\")\n",
    "plt.title(\"Kenya Daily Cases & Test Conducted\")\n",
    "plt.show()"
   ]
  },
  {
   "cell_type": "code",
   "execution_count": 349,
   "metadata": {},
   "outputs": [],
   "source": [
    "#Setting up a working directory\n",
    "import os\n",
    "os.chdir(\"C:/Users/Lenovo/Desktop/Data Insight/Analysis\")\n",
    "#Saving the notebook\n",
    "%notebook \"C:/Users/Lenovo/Desktop/Data Insight/Analysis/Covid 19 Analysis.ipynb\""
   ]
  }
 ],
 "metadata": {},
 "nbformat": 4,
 "nbformat_minor": 2
}
